{
 "cells": [
  {
   "cell_type": "code",
   "execution_count": 2,
   "id": "6cec6769",
   "metadata": {},
   "outputs": [
    {
     "name": "stderr",
     "output_type": "stream",
     "text": [
      "2022-12-15 07:01:16.569237: I tensorflow/core/platform/cpu_feature_guard.cc:193] This TensorFlow binary is optimized with oneAPI Deep Neural Network Library (oneDNN) to use the following CPU instructions in performance-critical operations:  AVX2 AVX512F AVX512_VNNI FMA\n",
      "To enable them in other operations, rebuild TensorFlow with the appropriate compiler flags.\n",
      "2022-12-15 07:01:16.711699: I tensorflow/core/util/port.cc:104] oneDNN custom operations are on. You may see slightly different numerical results due to floating-point round-off errors from different computation orders. To turn them off, set the environment variable `TF_ENABLE_ONEDNN_OPTS=0`.\n",
      "2022-12-15 07:01:16.716207: W tensorflow/compiler/xla/stream_executor/platform/default/dso_loader.cc:64] Could not load dynamic library 'libcudart.so.11.0'; dlerror: libcudart.so.11.0: cannot open shared object file: No such file or directory\n",
      "2022-12-15 07:01:16.716224: I tensorflow/compiler/xla/stream_executor/cuda/cudart_stub.cc:29] Ignore above cudart dlerror if you do not have a GPU set up on your machine.\n",
      "2022-12-15 07:01:17.373353: W tensorflow/compiler/xla/stream_executor/platform/default/dso_loader.cc:64] Could not load dynamic library 'libnvinfer.so.7'; dlerror: libnvinfer.so.7: cannot open shared object file: No such file or directory\n",
      "2022-12-15 07:01:17.373419: W tensorflow/compiler/xla/stream_executor/platform/default/dso_loader.cc:64] Could not load dynamic library 'libnvinfer_plugin.so.7'; dlerror: libnvinfer_plugin.so.7: cannot open shared object file: No such file or directory\n",
      "2022-12-15 07:01:17.373426: W tensorflow/compiler/tf2tensorrt/utils/py_utils.cc:38] TF-TRT Warning: Cannot dlopen some TensorRT libraries. If you would like to use Nvidia GPU with TensorRT, please make sure the missing libraries mentioned above are installed properly.\n"
     ]
    }
   ],
   "source": [
    "# basic\n",
    "import numpy as np\n",
    "import pandas as pd\n",
    "\n",
    "# gnn and train\n",
    "import tensorflow as tf\n",
    "import tensorflow_gnn as tfgnn\n",
    "from tensorflow_gnn.models import gat_v2, graph_sage\n",
    "\n",
    "# demo\n",
    "import matplotlib.pyplot as plt"
   ]
  },
  {
   "cell_type": "code",
   "execution_count": 3,
   "id": "8edf1b35",
   "metadata": {},
   "outputs": [],
   "source": [
    "record_fp = './tfgnn_dataset/nexmark_isBP.tfrecord'\n",
    "schema_fp = './tfgnn_dataset/schema_poc.pbtxt'"
   ]
  },
  {
   "cell_type": "code",
   "execution_count": 10,
   "id": "ee7f0af7",
   "metadata": {},
   "outputs": [],
   "source": [
    "# Read the dataset of tf.Example protos for training.\n",
    "dataset = tf.data.TFRecordDataset(filenames=[record_fp])\n",
    "# dataset = ...  # Shuffle, repeat and prefetch as appropriate. TODO\n",
    "dataset = dataset.shuffle(buffer_size=10000, seed=8888)\n",
    "\n",
    "# print(dataset)\n",
    "\n",
    "dataset = dataset.batch(10)  # Expected before preprocessing."
   ]
  },
  {
   "cell_type": "code",
   "execution_count": 11,
   "id": "9eb37564",
   "metadata": {},
   "outputs": [
    {
     "data": {
      "text/plain": [
       "GraphTensorSpec({'context': ContextSpec({'features': {'label_isBP': TensorSpec(shape=(None, 1), dtype=tf.int64, name=None), 'records_input_rate': TensorSpec(shape=(None, 1, 1), dtype=tf.float32, name=None), 'bytes_input_rate': TensorSpec(shape=(None, 1, 1), dtype=tf.float32, name=None)}, 'sizes': TensorSpec(shape=(None, 1), dtype=tf.int32, name=None)}, TensorShape([None]), tf.int32, None), 'node_sets': {'source': NodeSetSpec({'features': {'parallelism': RaggedTensorSpec(TensorShape([None, None, 1]), tf.float32, 1, tf.int32)}, 'sizes': TensorSpec(shape=(None, 1), dtype=tf.int32, name=None)}, TensorShape([None]), tf.int32, None), 'operate': NodeSetSpec({'features': {'records_selectivity': RaggedTensorSpec(TensorShape([None, None, 1]), tf.float32, 1, tf.int32), 'parallelism': RaggedTensorSpec(TensorShape([None, None, 1]), tf.float32, 1, tf.int32), 'utilization_embedding': RaggedTensorSpec(TensorShape([None, None, 6]), tf.float32, 1, tf.int32), 'bytes_selectivity': RaggedTensorSpec(TensorShape([None, None, 1]), tf.float32, 1, tf.int32)}, 'sizes': TensorSpec(shape=(None, 1), dtype=tf.int32, name=None)}, TensorShape([None]), tf.int32, None)}, 'edge_sets': {'src2op': EdgeSetSpec({'features': {}, 'sizes': TensorSpec(shape=(None, 1), dtype=tf.int32, name=None), 'adjacency': AdjacencySpec({'#index.0': RaggedTensorSpec(TensorShape([None, None]), tf.int32, 1, tf.int32), '#index.1': RaggedTensorSpec(TensorShape([None, None]), tf.int32, 1, tf.int32)}, TensorShape([None]), tf.int32, {'#index.0': 'source', '#index.1': 'operate'})}, TensorShape([None]), tf.int32, None), 'op2op': EdgeSetSpec({'features': {}, 'sizes': TensorSpec(shape=(None, 1), dtype=tf.int32, name=None), 'adjacency': AdjacencySpec({'#index.0': RaggedTensorSpec(TensorShape([None, None]), tf.int32, 1, tf.int32), '#index.1': RaggedTensorSpec(TensorShape([None, None]), tf.int32, 1, tf.int32)}, TensorShape([None]), tf.int32, {'#index.0': 'operate', '#index.1': 'operate'})}, TensorShape([None]), tf.int32, None)}}, TensorShape([None]), tf.int32, None)"
      ]
     },
     "execution_count": 11,
     "metadata": {},
     "output_type": "execute_result"
    }
   ],
   "source": [
    "# Parse the GraphTensor values.\n",
    "graph_schema = tfgnn.read_schema(schema_fp)\n",
    "example_input_spec = tfgnn.create_graph_spec_from_schema_pb(graph_schema) # spec\n",
    "\n",
    "dataset = dataset.map(tfgnn.keras.layers.ParseExample(example_input_spec))\n",
    "# size_constraints = tfgnn.find_tight_size_constraints(dataset, ) # compute the size\n",
    "dataset = dataset.repeat() # optional\n",
    "\n",
    "preproc_input_spec = dataset.element_spec\n",
    "preproc_input_spec"
   ]
  },
  {
   "cell_type": "code",
   "execution_count": 12,
   "id": "a0aa6311",
   "metadata": {},
   "outputs": [],
   "source": [
    "# Define pre-process model for initial hidden states, actually all partial models\n",
    "def node_sets_fn(node_set, *, node_set_name):\n",
    "    if node_set_name == 'source':\n",
    "        return node_set['parallelism']\n",
    "    elif node_set_name == 'operate':\n",
    "        print(node_set)\n",
    "#         stacked_non_embed = tf.stack([node_set['bytes_selectivity'], \n",
    "#                                       node_set['records_selectivity'], \n",
    "#                                       node_set['parallelism']], axis=2)\n",
    "        stacked_non_embed = tf.keras.layers.Concatenate()([node_set['bytes_selectivity'], \n",
    "                                                          node_set['records_selectivity'], \n",
    "                                                            node_set['parallelism']])\n",
    "        print('stacked_non_embed:', stacked_non_embed)\n",
    "        return tf.keras.layers.Concatenate()([ \n",
    "            node_set['utilization_embedding'],\n",
    "            stacked_non_embed,\n",
    "            ])\n",
    "\n",
    "# def edge_sets_fn(): TODO\n",
    "\n",
    "def context_fn(context):\n",
    "#     stacked_cont = tf.stack([context['bytes_input_rate'], \n",
    "#                     context['records_input_rate'],], axis=2)\n",
    "    stacked_cont = tf.keras.layers.Concatenate()([context['bytes_input_rate'], \n",
    "                                                  context['records_input_rate'],],)\n",
    "    return {'hidden_state': stacked_cont,\n",
    "            'label_isBP': context['label_isBP']}\n",
    "\n",
    "def split_fn(graph):\n",
    "    labels = tfgnn.keras.layers.Readout(from_context=True,\n",
    "                                    feature_name=\"label_isBP\")(graph)\n",
    "    graph = graph.remove_features(context=['label_isBP'])\n",
    "    assert \"label_isBP\" not in graph.context.features\n",
    "    return graph, labels"
   ]
  },
  {
   "cell_type": "code",
   "execution_count": 14,
   "id": "596c7ce1",
   "metadata": {},
   "outputs": [
    {
     "name": "stdout",
     "output_type": "stream",
     "text": [
      "KerasTensor(type_spec=NodeSetSpec({'features': {'records_selectivity': RaggedTensorSpec(TensorShape([None, None, 1]), tf.float32, 1, tf.int32), 'parallelism': RaggedTensorSpec(TensorShape([None, None, 1]), tf.float32, 1, tf.int32), 'utilization_embedding': RaggedTensorSpec(TensorShape([None, None, 6]), tf.float32, 1, tf.int32), 'bytes_selectivity': RaggedTensorSpec(TensorShape([None, None, 1]), tf.float32, 1, tf.int32)}, 'sizes': TensorSpec(shape=(None, 1), dtype=tf.int32, name=None)}, TensorShape([None]), tf.int32, None), description=\"created by layer 'input_8'\")\n",
      "stacked_non_embed: KerasTensor(type_spec=RaggedTensorSpec(TensorShape([None, None, 3]), tf.float32, 1, tf.int32), description=\"created by layer 'concatenate_1'\")\n"
     ]
    }
   ],
   "source": [
    "# Define and apply the preprocessing model. (now starts to define a graph model with the view of a scalar sample)\n",
    "preproc_input = tf.keras.layers.Input(type_spec=preproc_input_spec)\n",
    "graph = tfgnn.keras.layers.MapFeatures(node_sets_fn=node_sets_fn,\n",
    "                                      context_fn=context_fn,\n",
    "                                      )(preproc_input)  # With preprocessed features, see below.\n",
    "graph = graph.merge_batch_to_components()  # See section \"Merging a batch\".\n",
    "\n",
    "# graph, mask = tfgnn.keras.layers.PadToTotalSizes(size_constraints)(graph) # pad\n",
    "graph, labels = split_fn(graph) # See section \"Splitting the label off ...\".\n",
    "\n",
    "# preproc_model = tf.keras.Model(preproc_input, (graph, labels, mask)) # now we defined the pp-model\n",
    "preproc_model = tf.keras.Model(preproc_input, (graph, labels, )) # now we defined the pp-model\n",
    "\n",
    "# above is just a defined computing process, the following is the process process on the whole dataset\n",
    "dataset = dataset.map(preproc_model)"
   ]
  },
  {
   "cell_type": "code",
   "execution_count": 7,
   "id": "f46b7a4d",
   "metadata": {},
   "outputs": [],
   "source": [
    "# ### testing\n",
    "# DATASET_SIZE = 5460\n",
    "# train_size = int(0.7 * DATASET_SIZE)\n",
    "# val_size = int(0.15 * DATASET_SIZE)\n",
    "# test_size = int(0.15 * DATASET_SIZE)\n",
    "\n",
    "# train_dataset = dataset.take(train_size)\n",
    "# test_dataset = dataset.skip(train_size)\n",
    "# val_dataset = test_dataset.skip(test_size)\n",
    "# test_dataset = test_dataset.take(test_size)\n",
    "\n",
    "# dataset = train_dataset\n",
    "# ### end testing"
   ]
  },
  {
   "cell_type": "code",
   "execution_count": 15,
   "id": "a11f4e49",
   "metadata": {},
   "outputs": [
    {
     "data": {
      "text/plain": [
       "(['hidden_state'], ['hidden_state'])"
      ]
     },
     "execution_count": 15,
     "metadata": {},
     "output_type": "execute_result"
    }
   ],
   "source": [
    "# assert list(graph.node_sets[\"operate\"].keys()) == [tfgnn.HIDDEN_STATE]\n",
    "# BUG: not working, use manual checking:\n",
    "list(graph.node_sets['operate'].get_features_dict().keys()),list(graph.node_sets['source'].get_features_dict().keys())"
   ]
  },
  {
   "cell_type": "code",
   "execution_count": 22,
   "id": "5a5492e8",
   "metadata": {},
   "outputs": [],
   "source": [
    "# define gnn update logic (using gatv2)\n",
    "def gnn(graph):\n",
    "    for i in range(2):\n",
    "        graph = gat_v2.GATv2MPNNGraphUpdate(units=5, message_dim=5, num_heads=1, receiver_tag=tfgnn.SOURCE)(graph)\n",
    "#         graph = gat_v2.GATv2MPNNGraphUpdate(units=5, message_dim=5, num_heads=1, receiver_tag=tfgnn.SOURCE,)(graph)\n",
    "    return graph"
   ]
  },
  {
   "cell_type": "code",
   "execution_count": 23,
   "id": "fd748526",
   "metadata": {},
   "outputs": [
    {
     "data": {
      "text/plain": [
       "GraphTensorSpec({'context': ContextSpec({'features': {'hidden_state': TensorSpec(shape=(None, 2), dtype=tf.float32, name=None)}, 'sizes': TensorSpec(shape=(None,), dtype=tf.int32, name=None)}, TensorShape([]), tf.int32, None), 'node_sets': {'source': NodeSetSpec({'features': {'hidden_state': TensorSpec(shape=(None, 1), dtype=tf.float32, name=None)}, 'sizes': TensorSpec(shape=(None,), dtype=tf.int32, name=None)}, TensorShape([]), tf.int32, None), 'operate': NodeSetSpec({'features': {'hidden_state': TensorSpec(shape=(None, 9), dtype=tf.float32, name=None)}, 'sizes': TensorSpec(shape=(None,), dtype=tf.int32, name=None)}, TensorShape([]), tf.int32, None)}, 'edge_sets': {'src2op': EdgeSetSpec({'features': {}, 'sizes': TensorSpec(shape=(None,), dtype=tf.int32, name=None), 'adjacency': AdjacencySpec({'#index.0': TensorSpec(shape=(None,), dtype=tf.int32, name=None), '#index.1': TensorSpec(shape=(None,), dtype=tf.int32, name=None)}, TensorShape([]), tf.int32, {'#index.0': 'source', '#index.1': 'operate'})}, TensorShape([]), tf.int32, None), 'op2op': EdgeSetSpec({'features': {}, 'sizes': TensorSpec(shape=(None,), dtype=tf.int32, name=None), 'adjacency': AdjacencySpec({'#index.0': TensorSpec(shape=(None,), dtype=tf.int32, name=None), '#index.1': TensorSpec(shape=(None,), dtype=tf.int32, name=None)}, TensorShape([]), tf.int32, {'#index.0': 'operate', '#index.1': 'operate'})}, TensorShape([]), tf.int32, None)}}, TensorShape([]), tf.int32, None)"
      ]
     },
     "execution_count": 23,
     "metadata": {},
     "output_type": "execute_result"
    }
   ],
   "source": [
    "model_input_spec, _, = dataset.element_spec\n",
    "model_input_spec"
   ]
  },
  {
   "cell_type": "code",
   "execution_count": 24,
   "id": "728ea06e",
   "metadata": {},
   "outputs": [
    {
     "name": "stdout",
     "output_type": "stream",
     "text": [
      "Model: \"model_2\"\n",
      "__________________________________________________________________________________________________\n",
      " Layer (type)                   Output Shape         Param #     Connected to                     \n",
      "==================================================================================================\n",
      " input_10 (InputLayer)          [()]                 0           []                               \n",
      "                                                                                                  \n",
      " graph_update_2 (GraphUpdate)   ()                   280         ['input_10[0][0]']               \n",
      "                                                                                                  \n",
      " graph_update_3 (GraphUpdate)   ()                   240         ['graph_update_2[0][0]']         \n",
      "                                                                                                  \n",
      " pool_2 (Pool)                  (None, 5)            0           ['graph_update_3[0][0]']         \n",
      "                                                                                                  \n",
      " pool_3 (Pool)                  (None, 5)            0           ['graph_update_3[0][0]']         \n",
      "                                                                                                  \n",
      " concatenate_1 (Concatenate)    (None, 10)           0           ['pool_2[0][0]',                 \n",
      "                                                                  'pool_3[0][0]']                 \n",
      "                                                                                                  \n",
      " dense_1 (Dense)                (None, 1)            11          ['concatenate_1[0][0]']          \n",
      "                                                                                                  \n",
      "==================================================================================================\n",
      "Total params: 531\n",
      "Trainable params: 531\n",
      "Non-trainable params: 0\n",
      "__________________________________________________________________________________________________\n"
     ]
    }
   ],
   "source": [
    "# Define and train the main model.\n",
    "model_input_spec, _, = dataset.element_spec  # Drop the spec for the labels.\n",
    "model_input = tf.keras.layers.Input(type_spec=model_input_spec)\n",
    "graph = gnn(model_input) # apply gnn model\n",
    "\n",
    "# Classifying each graph as a whole, based on an aggregation of the node states from one node set\n",
    "pooled_features_s = tfgnn.keras.layers.Pool(tfgnn.CONTEXT, \"mean\", node_set_name=\"source\")(graph)\n",
    "pooled_features_op = tfgnn.keras.layers.Pool(tfgnn.CONTEXT, \"mean\", node_set_name=\"operate\")(graph)\n",
    "\n",
    "pooled_features = tf.keras.layers.concatenate([pooled_features_s, pooled_features_op])\n",
    "\n",
    "# logits = tf.keras.layers.Dense(1)(pooled_features_op) # output\n",
    "logits = tf.keras.layers.Dense(1)(pooled_features) # output\n",
    "\n",
    "model = tf.keras.Model(model_input, logits)\n",
    "\n",
    "# compile this model for binary classification\n",
    "model.compile(tf.keras.optimizers.Adam(),\n",
    "              loss=tf.keras.losses.BinaryCrossentropy(from_logits=True))\n",
    "model.summary()"
   ]
  },
  {
   "cell_type": "code",
   "execution_count": 25,
   "id": "d646cbec",
   "metadata": {},
   "outputs": [
    {
     "name": "stdout",
     "output_type": "stream",
     "text": [
      "Epoch 1/200\n"
     ]
    },
    {
     "ename": "InvalidArgumentError",
     "evalue": "Graph execution error:\n\nDetected at node 'model_2/graph_update_2/node_set_update/gat_v2_conv/GatherV2_1' defined at (most recent call last):\n    File \"/usr/lib/python3.8/runpy.py\", line 194, in _run_module_as_main\n      return _run_code(code, main_globals, None,\n    File \"/usr/lib/python3.8/runpy.py\", line 87, in _run_code\n      exec(code, run_globals)\n    File \"/home/flink/workspace/yimin/data_explore/lib/python3.8/site-packages/ipykernel_launcher.py\", line 17, in <module>\n      app.launch_new_instance()\n    File \"/home/flink/workspace/yimin/data_explore/lib/python3.8/site-packages/traitlets/config/application.py\", line 985, in launch_instance\n      app.start()\n    File \"/home/flink/workspace/yimin/data_explore/lib/python3.8/site-packages/ipykernel/kernelapp.py\", line 712, in start\n      self.io_loop.start()\n    File \"/home/flink/workspace/yimin/data_explore/lib/python3.8/site-packages/tornado/platform/asyncio.py\", line 215, in start\n      self.asyncio_loop.run_forever()\n    File \"/usr/lib/python3.8/asyncio/base_events.py\", line 570, in run_forever\n      self._run_once()\n    File \"/usr/lib/python3.8/asyncio/base_events.py\", line 1859, in _run_once\n      handle._run()\n    File \"/usr/lib/python3.8/asyncio/events.py\", line 81, in _run\n      self._context.run(self._callback, *self._args)\n    File \"/home/flink/workspace/yimin/data_explore/lib/python3.8/site-packages/ipykernel/kernelbase.py\", line 510, in dispatch_queue\n      await self.process_one()\n    File \"/home/flink/workspace/yimin/data_explore/lib/python3.8/site-packages/ipykernel/kernelbase.py\", line 499, in process_one\n      await dispatch(*args)\n    File \"/home/flink/workspace/yimin/data_explore/lib/python3.8/site-packages/ipykernel/kernelbase.py\", line 406, in dispatch_shell\n      await result\n    File \"/home/flink/workspace/yimin/data_explore/lib/python3.8/site-packages/ipykernel/kernelbase.py\", line 730, in execute_request\n      reply_content = await reply_content\n    File \"/home/flink/workspace/yimin/data_explore/lib/python3.8/site-packages/ipykernel/ipkernel.py\", line 383, in do_execute\n      res = shell.run_cell(\n    File \"/home/flink/workspace/yimin/data_explore/lib/python3.8/site-packages/ipykernel/zmqshell.py\", line 528, in run_cell\n      return super().run_cell(*args, **kwargs)\n    File \"/home/flink/workspace/yimin/data_explore/lib/python3.8/site-packages/IPython/core/interactiveshell.py\", line 2940, in run_cell\n      result = self._run_cell(\n    File \"/home/flink/workspace/yimin/data_explore/lib/python3.8/site-packages/IPython/core/interactiveshell.py\", line 2995, in _run_cell\n      return runner(coro)\n    File \"/home/flink/workspace/yimin/data_explore/lib/python3.8/site-packages/IPython/core/async_helpers.py\", line 129, in _pseudo_sync_runner\n      coro.send(None)\n    File \"/home/flink/workspace/yimin/data_explore/lib/python3.8/site-packages/IPython/core/interactiveshell.py\", line 3194, in run_cell_async\n      has_raised = await self.run_ast_nodes(code_ast.body, cell_name,\n    File \"/home/flink/workspace/yimin/data_explore/lib/python3.8/site-packages/IPython/core/interactiveshell.py\", line 3373, in run_ast_nodes\n      if await self.run_code(code, result, async_=asy):\n    File \"/home/flink/workspace/yimin/data_explore/lib/python3.8/site-packages/IPython/core/interactiveshell.py\", line 3433, in run_code\n      exec(code_obj, self.user_global_ns, self.user_ns)\n    File \"/tmp/ipykernel_4371/2200306830.py\", line 2, in <module>\n      history = model.fit( dataset,\n    File \"/home/flink/workspace/yimin/data_explore/lib/python3.8/site-packages/keras/utils/traceback_utils.py\", line 65, in error_handler\n      return fn(*args, **kwargs)\n    File \"/home/flink/workspace/yimin/data_explore/lib/python3.8/site-packages/keras/engine/training.py\", line 1650, in fit\n      tmp_logs = self.train_function(iterator)\n    File \"/home/flink/workspace/yimin/data_explore/lib/python3.8/site-packages/keras/engine/training.py\", line 1249, in train_function\n      return step_function(self, iterator)\n    File \"/home/flink/workspace/yimin/data_explore/lib/python3.8/site-packages/keras/engine/training.py\", line 1233, in step_function\n      outputs = model.distribute_strategy.run(run_step, args=(data,))\n    File \"/home/flink/workspace/yimin/data_explore/lib/python3.8/site-packages/keras/engine/training.py\", line 1222, in run_step\n      outputs = model.train_step(data)\n    File \"/home/flink/workspace/yimin/data_explore/lib/python3.8/site-packages/keras/engine/training.py\", line 1023, in train_step\n      y_pred = self(x, training=True)\n    File \"/home/flink/workspace/yimin/data_explore/lib/python3.8/site-packages/keras/utils/traceback_utils.py\", line 65, in error_handler\n      return fn(*args, **kwargs)\n    File \"/home/flink/workspace/yimin/data_explore/lib/python3.8/site-packages/keras/engine/training.py\", line 561, in __call__\n      return super().__call__(*args, **kwargs)\n    File \"/home/flink/workspace/yimin/data_explore/lib/python3.8/site-packages/keras/utils/traceback_utils.py\", line 65, in error_handler\n      return fn(*args, **kwargs)\n    File \"/home/flink/workspace/yimin/data_explore/lib/python3.8/site-packages/keras/engine/base_layer.py\", line 1132, in __call__\n      outputs = call_fn(inputs, *args, **kwargs)\n    File \"/home/flink/workspace/yimin/data_explore/lib/python3.8/site-packages/keras/utils/traceback_utils.py\", line 96, in error_handler\n      return fn(*args, **kwargs)\n    File \"/home/flink/workspace/yimin/data_explore/lib/python3.8/site-packages/keras/engine/functional.py\", line 511, in call\n      return self._run_internal_graph(inputs, training=training, mask=mask)\n    File \"/home/flink/workspace/yimin/data_explore/lib/python3.8/site-packages/keras/engine/functional.py\", line 668, in _run_internal_graph\n      outputs = node.layer(*args, **kwargs)\n    File \"/home/flink/workspace/yimin/data_explore/lib/python3.8/site-packages/keras/utils/traceback_utils.py\", line 65, in error_handler\n      return fn(*args, **kwargs)\n    File \"/home/flink/workspace/yimin/data_explore/lib/python3.8/site-packages/keras/engine/base_layer.py\", line 1132, in __call__\n      outputs = call_fn(inputs, *args, **kwargs)\n    File \"/home/flink/workspace/yimin/data_explore/lib/python3.8/site-packages/keras/utils/traceback_utils.py\", line 96, in error_handler\n      return fn(*args, **kwargs)\n    File \"/home/flink/workspace/yimin/data_explore/lib/python3.8/site-packages/tensorflow_gnn/keras/layers/graph_update.py\", line 249, in call\n      update_fn(graph, node_set_name=node_set_name)))\n    File \"/home/flink/workspace/yimin/data_explore/lib/python3.8/site-packages/keras/utils/traceback_utils.py\", line 65, in error_handler\n      return fn(*args, **kwargs)\n    File \"/home/flink/workspace/yimin/data_explore/lib/python3.8/site-packages/keras/engine/base_layer.py\", line 1132, in __call__\n      outputs = call_fn(inputs, *args, **kwargs)\n    File \"/home/flink/workspace/yimin/data_explore/lib/python3.8/site-packages/keras/utils/traceback_utils.py\", line 96, in error_handler\n      return fn(*args, **kwargs)\n    File \"/home/flink/workspace/yimin/data_explore/lib/python3.8/site-packages/tensorflow_gnn/keras/layers/graph_update.py\", line 431, in call\n      input_from_edge_sets[edge_set_name] = input_fn(\n    File \"/home/flink/workspace/yimin/data_explore/lib/python3.8/site-packages/keras/utils/traceback_utils.py\", line 65, in error_handler\n      return fn(*args, **kwargs)\n    File \"/home/flink/workspace/yimin/data_explore/lib/python3.8/site-packages/keras/engine/base_layer.py\", line 1132, in __call__\n      outputs = call_fn(inputs, *args, **kwargs)\n    File \"/home/flink/workspace/yimin/data_explore/lib/python3.8/site-packages/keras/utils/traceback_utils.py\", line 96, in error_handler\n      return fn(*args, **kwargs)\n    File \"/home/flink/workspace/yimin/data_explore/lib/python3.8/site-packages/tensorflow_gnn/keras/layers/convolution_base.py\", line 332, in call\n      **extra_receiver_ops_kwarg,\n    File \"/home/flink/workspace/yimin/data_explore/lib/python3.8/site-packages/tensorflow_gnn/models/gat_v2/layers.py\", line 263, in convolve\n      if sender_node_input is not None:\n    File \"/home/flink/workspace/yimin/data_explore/lib/python3.8/site-packages/tensorflow_gnn/models/gat_v2/layers.py\", line 264, in convolve\n      value_terms.append(broadcast_from_sender_node(\n    File \"/home/flink/workspace/yimin/data_explore/lib/python3.8/site-packages/tensorflow_gnn/keras/layers/convolution_base.py\", line 292, in call\n      broadcast_from_sender_node = (\n    File \"/home/flink/workspace/yimin/data_explore/lib/python3.8/site-packages/tensorflow_gnn/graph/graph_tensor_ops.py\", line 106, in broadcast_node_to_edges\n      return tf.gather(node_value, adjacency[node_tag])\nNode: 'model_2/graph_update_2/node_set_update/gat_v2_conv/GatherV2_1'\nindices[10] = 14 is not in [0, 14)\n\t [[{{node model_2/graph_update_2/node_set_update/gat_v2_conv/GatherV2_1}}]] [Op:__inference_train_function_15621]",
     "output_type": "error",
     "traceback": [
      "\u001b[0;31m---------------------------------------------------------------------------\u001b[0m",
      "\u001b[0;31mInvalidArgumentError\u001b[0m                      Traceback (most recent call last)",
      "Cell \u001b[0;32mIn[25], line 2\u001b[0m\n\u001b[1;32m      1\u001b[0m \u001b[38;5;66;03m# train\u001b[39;00m\n\u001b[0;32m----> 2\u001b[0m history \u001b[38;5;241m=\u001b[39m \u001b[43mmodel\u001b[49m\u001b[38;5;241;43m.\u001b[39;49m\u001b[43mfit\u001b[49m\u001b[43m(\u001b[49m\u001b[43m \u001b[49m\u001b[43mdataset\u001b[49m\u001b[43m,\u001b[49m\n\u001b[1;32m      3\u001b[0m \u001b[43m                     \u001b[49m\u001b[43msteps_per_epoch\u001b[49m\u001b[38;5;241;43m=\u001b[39;49m\u001b[38;5;241;43m10\u001b[39;49m\u001b[43m,\u001b[49m\n\u001b[1;32m      4\u001b[0m \u001b[43m                     \u001b[49m\u001b[43mepochs\u001b[49m\u001b[38;5;241;43m=\u001b[39;49m\u001b[38;5;241;43m200\u001b[39;49m\u001b[43m,\u001b[49m\u001b[43m)\u001b[49m\n",
      "File \u001b[0;32m~/workspace/yimin/data_explore/lib/python3.8/site-packages/keras/utils/traceback_utils.py:70\u001b[0m, in \u001b[0;36mfilter_traceback.<locals>.error_handler\u001b[0;34m(*args, **kwargs)\u001b[0m\n\u001b[1;32m     67\u001b[0m     filtered_tb \u001b[38;5;241m=\u001b[39m _process_traceback_frames(e\u001b[38;5;241m.\u001b[39m__traceback__)\n\u001b[1;32m     68\u001b[0m     \u001b[38;5;66;03m# To get the full stack trace, call:\u001b[39;00m\n\u001b[1;32m     69\u001b[0m     \u001b[38;5;66;03m# `tf.debugging.disable_traceback_filtering()`\u001b[39;00m\n\u001b[0;32m---> 70\u001b[0m     \u001b[38;5;28;01mraise\u001b[39;00m e\u001b[38;5;241m.\u001b[39mwith_traceback(filtered_tb) \u001b[38;5;28;01mfrom\u001b[39;00m \u001b[38;5;28mNone\u001b[39m\n\u001b[1;32m     71\u001b[0m \u001b[38;5;28;01mfinally\u001b[39;00m:\n\u001b[1;32m     72\u001b[0m     \u001b[38;5;28;01mdel\u001b[39;00m filtered_tb\n",
      "File \u001b[0;32m~/workspace/yimin/data_explore/lib/python3.8/site-packages/tensorflow/python/eager/execute.py:52\u001b[0m, in \u001b[0;36mquick_execute\u001b[0;34m(op_name, num_outputs, inputs, attrs, ctx, name)\u001b[0m\n\u001b[1;32m     50\u001b[0m \u001b[38;5;28;01mtry\u001b[39;00m:\n\u001b[1;32m     51\u001b[0m   ctx\u001b[38;5;241m.\u001b[39mensure_initialized()\n\u001b[0;32m---> 52\u001b[0m   tensors \u001b[38;5;241m=\u001b[39m pywrap_tfe\u001b[38;5;241m.\u001b[39mTFE_Py_Execute(ctx\u001b[38;5;241m.\u001b[39m_handle, device_name, op_name,\n\u001b[1;32m     53\u001b[0m                                       inputs, attrs, num_outputs)\n\u001b[1;32m     54\u001b[0m \u001b[38;5;28;01mexcept\u001b[39;00m core\u001b[38;5;241m.\u001b[39m_NotOkStatusException \u001b[38;5;28;01mas\u001b[39;00m e:\n\u001b[1;32m     55\u001b[0m   \u001b[38;5;28;01mif\u001b[39;00m name \u001b[38;5;129;01mis\u001b[39;00m \u001b[38;5;129;01mnot\u001b[39;00m \u001b[38;5;28;01mNone\u001b[39;00m:\n",
      "\u001b[0;31mInvalidArgumentError\u001b[0m: Graph execution error:\n\nDetected at node 'model_2/graph_update_2/node_set_update/gat_v2_conv/GatherV2_1' defined at (most recent call last):\n    File \"/usr/lib/python3.8/runpy.py\", line 194, in _run_module_as_main\n      return _run_code(code, main_globals, None,\n    File \"/usr/lib/python3.8/runpy.py\", line 87, in _run_code\n      exec(code, run_globals)\n    File \"/home/flink/workspace/yimin/data_explore/lib/python3.8/site-packages/ipykernel_launcher.py\", line 17, in <module>\n      app.launch_new_instance()\n    File \"/home/flink/workspace/yimin/data_explore/lib/python3.8/site-packages/traitlets/config/application.py\", line 985, in launch_instance\n      app.start()\n    File \"/home/flink/workspace/yimin/data_explore/lib/python3.8/site-packages/ipykernel/kernelapp.py\", line 712, in start\n      self.io_loop.start()\n    File \"/home/flink/workspace/yimin/data_explore/lib/python3.8/site-packages/tornado/platform/asyncio.py\", line 215, in start\n      self.asyncio_loop.run_forever()\n    File \"/usr/lib/python3.8/asyncio/base_events.py\", line 570, in run_forever\n      self._run_once()\n    File \"/usr/lib/python3.8/asyncio/base_events.py\", line 1859, in _run_once\n      handle._run()\n    File \"/usr/lib/python3.8/asyncio/events.py\", line 81, in _run\n      self._context.run(self._callback, *self._args)\n    File \"/home/flink/workspace/yimin/data_explore/lib/python3.8/site-packages/ipykernel/kernelbase.py\", line 510, in dispatch_queue\n      await self.process_one()\n    File \"/home/flink/workspace/yimin/data_explore/lib/python3.8/site-packages/ipykernel/kernelbase.py\", line 499, in process_one\n      await dispatch(*args)\n    File \"/home/flink/workspace/yimin/data_explore/lib/python3.8/site-packages/ipykernel/kernelbase.py\", line 406, in dispatch_shell\n      await result\n    File \"/home/flink/workspace/yimin/data_explore/lib/python3.8/site-packages/ipykernel/kernelbase.py\", line 730, in execute_request\n      reply_content = await reply_content\n    File \"/home/flink/workspace/yimin/data_explore/lib/python3.8/site-packages/ipykernel/ipkernel.py\", line 383, in do_execute\n      res = shell.run_cell(\n    File \"/home/flink/workspace/yimin/data_explore/lib/python3.8/site-packages/ipykernel/zmqshell.py\", line 528, in run_cell\n      return super().run_cell(*args, **kwargs)\n    File \"/home/flink/workspace/yimin/data_explore/lib/python3.8/site-packages/IPython/core/interactiveshell.py\", line 2940, in run_cell\n      result = self._run_cell(\n    File \"/home/flink/workspace/yimin/data_explore/lib/python3.8/site-packages/IPython/core/interactiveshell.py\", line 2995, in _run_cell\n      return runner(coro)\n    File \"/home/flink/workspace/yimin/data_explore/lib/python3.8/site-packages/IPython/core/async_helpers.py\", line 129, in _pseudo_sync_runner\n      coro.send(None)\n    File \"/home/flink/workspace/yimin/data_explore/lib/python3.8/site-packages/IPython/core/interactiveshell.py\", line 3194, in run_cell_async\n      has_raised = await self.run_ast_nodes(code_ast.body, cell_name,\n    File \"/home/flink/workspace/yimin/data_explore/lib/python3.8/site-packages/IPython/core/interactiveshell.py\", line 3373, in run_ast_nodes\n      if await self.run_code(code, result, async_=asy):\n    File \"/home/flink/workspace/yimin/data_explore/lib/python3.8/site-packages/IPython/core/interactiveshell.py\", line 3433, in run_code\n      exec(code_obj, self.user_global_ns, self.user_ns)\n    File \"/tmp/ipykernel_4371/2200306830.py\", line 2, in <module>\n      history = model.fit( dataset,\n    File \"/home/flink/workspace/yimin/data_explore/lib/python3.8/site-packages/keras/utils/traceback_utils.py\", line 65, in error_handler\n      return fn(*args, **kwargs)\n    File \"/home/flink/workspace/yimin/data_explore/lib/python3.8/site-packages/keras/engine/training.py\", line 1650, in fit\n      tmp_logs = self.train_function(iterator)\n    File \"/home/flink/workspace/yimin/data_explore/lib/python3.8/site-packages/keras/engine/training.py\", line 1249, in train_function\n      return step_function(self, iterator)\n    File \"/home/flink/workspace/yimin/data_explore/lib/python3.8/site-packages/keras/engine/training.py\", line 1233, in step_function\n      outputs = model.distribute_strategy.run(run_step, args=(data,))\n    File \"/home/flink/workspace/yimin/data_explore/lib/python3.8/site-packages/keras/engine/training.py\", line 1222, in run_step\n      outputs = model.train_step(data)\n    File \"/home/flink/workspace/yimin/data_explore/lib/python3.8/site-packages/keras/engine/training.py\", line 1023, in train_step\n      y_pred = self(x, training=True)\n    File \"/home/flink/workspace/yimin/data_explore/lib/python3.8/site-packages/keras/utils/traceback_utils.py\", line 65, in error_handler\n      return fn(*args, **kwargs)\n    File \"/home/flink/workspace/yimin/data_explore/lib/python3.8/site-packages/keras/engine/training.py\", line 561, in __call__\n      return super().__call__(*args, **kwargs)\n    File \"/home/flink/workspace/yimin/data_explore/lib/python3.8/site-packages/keras/utils/traceback_utils.py\", line 65, in error_handler\n      return fn(*args, **kwargs)\n    File \"/home/flink/workspace/yimin/data_explore/lib/python3.8/site-packages/keras/engine/base_layer.py\", line 1132, in __call__\n      outputs = call_fn(inputs, *args, **kwargs)\n    File \"/home/flink/workspace/yimin/data_explore/lib/python3.8/site-packages/keras/utils/traceback_utils.py\", line 96, in error_handler\n      return fn(*args, **kwargs)\n    File \"/home/flink/workspace/yimin/data_explore/lib/python3.8/site-packages/keras/engine/functional.py\", line 511, in call\n      return self._run_internal_graph(inputs, training=training, mask=mask)\n    File \"/home/flink/workspace/yimin/data_explore/lib/python3.8/site-packages/keras/engine/functional.py\", line 668, in _run_internal_graph\n      outputs = node.layer(*args, **kwargs)\n    File \"/home/flink/workspace/yimin/data_explore/lib/python3.8/site-packages/keras/utils/traceback_utils.py\", line 65, in error_handler\n      return fn(*args, **kwargs)\n    File \"/home/flink/workspace/yimin/data_explore/lib/python3.8/site-packages/keras/engine/base_layer.py\", line 1132, in __call__\n      outputs = call_fn(inputs, *args, **kwargs)\n    File \"/home/flink/workspace/yimin/data_explore/lib/python3.8/site-packages/keras/utils/traceback_utils.py\", line 96, in error_handler\n      return fn(*args, **kwargs)\n    File \"/home/flink/workspace/yimin/data_explore/lib/python3.8/site-packages/tensorflow_gnn/keras/layers/graph_update.py\", line 249, in call\n      update_fn(graph, node_set_name=node_set_name)))\n    File \"/home/flink/workspace/yimin/data_explore/lib/python3.8/site-packages/keras/utils/traceback_utils.py\", line 65, in error_handler\n      return fn(*args, **kwargs)\n    File \"/home/flink/workspace/yimin/data_explore/lib/python3.8/site-packages/keras/engine/base_layer.py\", line 1132, in __call__\n      outputs = call_fn(inputs, *args, **kwargs)\n    File \"/home/flink/workspace/yimin/data_explore/lib/python3.8/site-packages/keras/utils/traceback_utils.py\", line 96, in error_handler\n      return fn(*args, **kwargs)\n    File \"/home/flink/workspace/yimin/data_explore/lib/python3.8/site-packages/tensorflow_gnn/keras/layers/graph_update.py\", line 431, in call\n      input_from_edge_sets[edge_set_name] = input_fn(\n    File \"/home/flink/workspace/yimin/data_explore/lib/python3.8/site-packages/keras/utils/traceback_utils.py\", line 65, in error_handler\n      return fn(*args, **kwargs)\n    File \"/home/flink/workspace/yimin/data_explore/lib/python3.8/site-packages/keras/engine/base_layer.py\", line 1132, in __call__\n      outputs = call_fn(inputs, *args, **kwargs)\n    File \"/home/flink/workspace/yimin/data_explore/lib/python3.8/site-packages/keras/utils/traceback_utils.py\", line 96, in error_handler\n      return fn(*args, **kwargs)\n    File \"/home/flink/workspace/yimin/data_explore/lib/python3.8/site-packages/tensorflow_gnn/keras/layers/convolution_base.py\", line 332, in call\n      **extra_receiver_ops_kwarg,\n    File \"/home/flink/workspace/yimin/data_explore/lib/python3.8/site-packages/tensorflow_gnn/models/gat_v2/layers.py\", line 263, in convolve\n      if sender_node_input is not None:\n    File \"/home/flink/workspace/yimin/data_explore/lib/python3.8/site-packages/tensorflow_gnn/models/gat_v2/layers.py\", line 264, in convolve\n      value_terms.append(broadcast_from_sender_node(\n    File \"/home/flink/workspace/yimin/data_explore/lib/python3.8/site-packages/tensorflow_gnn/keras/layers/convolution_base.py\", line 292, in call\n      broadcast_from_sender_node = (\n    File \"/home/flink/workspace/yimin/data_explore/lib/python3.8/site-packages/tensorflow_gnn/graph/graph_tensor_ops.py\", line 106, in broadcast_node_to_edges\n      return tf.gather(node_value, adjacency[node_tag])\nNode: 'model_2/graph_update_2/node_set_update/gat_v2_conv/GatherV2_1'\nindices[10] = 14 is not in [0, 14)\n\t [[{{node model_2/graph_update_2/node_set_update/gat_v2_conv/GatherV2_1}}]] [Op:__inference_train_function_15621]"
     ]
    }
   ],
   "source": [
    "# train\n",
    "history = model.fit( dataset,\n",
    "                     steps_per_epoch=10,\n",
    "                     epochs=200,)"
   ]
  },
  {
   "cell_type": "code",
   "execution_count": null,
   "id": "60bf9f44",
   "metadata": {},
   "outputs": [],
   "source": [
    "# Export the combined SavedModel for serving.\n",
    "# this part can be waived for current situation..\n",
    "# serving_input = tf.keras.layers.Input(shape=[],  # The batch dim is implied.\n",
    "#                                       dtype=tf.string, name=\"examples\")\n",
    "# preproc_input = tfgnn.keras.layers.ParseExample(example_input_spec)(serving_input)\n",
    "# serving_model_input, _ = preproc_model(preproc_input)  # Drop labels.\n",
    "# serving_logits = model(serving_model_input)\n",
    "# serving_output = {\"logits\": tf.keras.layers.Layer(name=\"logits\")(serving_logits)}\n",
    "# exported_model = tf.keras.Model(serving_input, serving_output)\n",
    "# exported_model.save(\"/tmp/exported_keras_model\", include_optimizer=False)"
   ]
  },
  {
   "cell_type": "code",
   "execution_count": 27,
   "id": "16d5f58b",
   "metadata": {},
   "outputs": [
    {
     "data": {
      "text/plain": [
       "<tf.Tensor: shape=(3,), dtype=int32, numpy=array([1, 2, 3], dtype=int32)>"
      ]
     },
     "execution_count": 27,
     "metadata": {},
     "output_type": "execute_result"
    }
   ],
   "source": [
    "tf.stack([1,2,3])"
   ]
  },
  {
   "cell_type": "code",
   "execution_count": 82,
   "id": "9fe1521c",
   "metadata": {},
   "outputs": [
    {
     "data": {
      "image/png": "[encoded data removed]",
      "text/plain": [
       "<Figure size 640x480 with 1 Axes>"
      ]
     },
     "metadata": {},
     "output_type": "display_data"
    }
   ],
   "source": [
    "for k, hist in history.history.items():\n",
    "    plt.plot(hist)\n",
    "    plt.title(k)\n",
    "    plt.show()"
   ]
  },
  {
   "cell_type": "code",
   "execution_count": 89,
   "id": "a0a2d100",
   "metadata": {},
   "outputs": [
    {
     "data": {
      "text/plain": [
       "<TakeDataset element_spec=(GraphTensorSpec({'context': ContextSpec({'features': {'hidden_state': TensorSpec(shape=(11, 2), dtype=tf.float32, name=None)}, 'sizes': TensorSpec(shape=(11,), dtype=tf.int32, name=None)}, TensorShape([]), tf.int32, None), 'node_sets': {'source': NodeSetSpec({'features': {'hidden_state': TensorSpec(shape=(11, 1), dtype=tf.float32, name=None)}, 'sizes': TensorSpec(shape=(11,), dtype=tf.int32, name=None)}, TensorShape([]), tf.int32, None), 'operate': NodeSetSpec({'features': {'hidden_state': TensorSpec(shape=(27, 9), dtype=tf.float32, name=None)}, 'sizes': TensorSpec(shape=(11,), dtype=tf.int32, name=None)}, TensorShape([]), tf.int32, None)}, 'edge_sets': {'op2op': EdgeSetSpec({'features': {}, 'sizes': TensorSpec(shape=(11,), dtype=tf.int32, name=None), 'adjacency': AdjacencySpec({'#index.0': TensorSpec(shape=(16,), dtype=tf.int32, name=None), '#index.1': TensorSpec(shape=(16,), dtype=tf.int32, name=None)}, TensorShape([]), tf.int32, {'#index.0': 'operate', '#index.1': 'operate'})}, TensorShape([]), tf.int32, None), 'src2op': EdgeSetSpec({'features': {}, 'sizes': TensorSpec(shape=(11,), dtype=tf.int32, name=None), 'adjacency': AdjacencySpec({'#index.0': TensorSpec(shape=(16,), dtype=tf.int32, name=None), '#index.1': TensorSpec(shape=(16,), dtype=tf.int32, name=None)}, TensorShape([]), tf.int32, {'#index.0': 'source', '#index.1': 'operate'})}, TensorShape([]), tf.int32, None)}}, TensorShape([]), tf.int32, None), TensorSpec(shape=(11,), dtype=tf.int64, name=None), TensorSpec(shape=(11,), dtype=tf.bool, name=None))>"
      ]
     },
     "execution_count": 89,
     "metadata": {},
     "output_type": "execute_result"
    }
   ],
   "source": [
    "test_dataset"
   ]
  },
  {
   "cell_type": "code",
   "execution_count": null,
   "id": "31759c97",
   "metadata": {},
   "outputs": [],
   "source": []
  }
 ],
 "metadata": {
  "kernelspec": {
   "display_name": "Python 3 (ipykernel)",
   "language": "python",
   "name": "python3"
  },
  "language_info": {
   "codemirror_mode": {
    "name": "ipython",
    "version": 3
   },
   "file_extension": ".py",
   "mimetype": "text/x-python",
   "name": "python",
   "nbconvert_exporter": "python",
   "pygments_lexer": "ipython3",
   "version": "3.8.15"
  }
 },
 "nbformat": 4,
 "nbformat_minor": 5
}
