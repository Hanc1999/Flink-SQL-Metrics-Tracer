{
 "cells": [
  {
   "cell_type": "code",
   "execution_count": 1,
   "id": "6cec6769",
   "metadata": {},
   "outputs": [
    {
     "name": "stderr",
     "output_type": "stream",
     "text": [
      "2022-12-15 05:40:14.015142: I tensorflow/core/platform/cpu_feature_guard.cc:193] This TensorFlow binary is optimized with oneAPI Deep Neural Network Library (oneDNN) to use the following CPU instructions in performance-critical operations:  AVX2 AVX512F AVX512_VNNI FMA\n",
      "To enable them in other operations, rebuild TensorFlow with the appropriate compiler flags.\n",
      "2022-12-15 05:40:14.171349: I tensorflow/core/util/port.cc:104] oneDNN custom operations are on. You may see slightly different numerical results due to floating-point round-off errors from different computation orders. To turn them off, set the environment variable `TF_ENABLE_ONEDNN_OPTS=0`.\n",
      "2022-12-15 05:40:14.176525: W tensorflow/compiler/xla/stream_executor/platform/default/dso_loader.cc:64] Could not load dynamic library 'libcudart.so.11.0'; dlerror: libcudart.so.11.0: cannot open shared object file: No such file or directory\n",
      "2022-12-15 05:40:14.176548: I tensorflow/compiler/xla/stream_executor/cuda/cudart_stub.cc:29] Ignore above cudart dlerror if you do not have a GPU set up on your machine.\n",
      "2022-12-15 05:40:14.861659: W tensorflow/compiler/xla/stream_executor/platform/default/dso_loader.cc:64] Could not load dynamic library 'libnvinfer.so.7'; dlerror: libnvinfer.so.7: cannot open shared object file: No such file or directory\n",
      "2022-12-15 05:40:14.861724: W tensorflow/compiler/xla/stream_executor/platform/default/dso_loader.cc:64] Could not load dynamic library 'libnvinfer_plugin.so.7'; dlerror: libnvinfer_plugin.so.7: cannot open shared object file: No such file or directory\n",
      "2022-12-15 05:40:14.861732: W tensorflow/compiler/tf2tensorrt/utils/py_utils.cc:38] TF-TRT Warning: Cannot dlopen some TensorRT libraries. If you would like to use Nvidia GPU with TensorRT, please make sure the missing libraries mentioned above are installed properly.\n"
     ]
    }
   ],
   "source": [
    "# basic\n",
    "import numpy as np\n",
    "import pandas as pd\n",
    "\n",
    "# gnn and train\n",
    "import tensorflow as tf\n",
    "import tensorflow_gnn as tfgnn\n",
    "from tensorflow_gnn.models import gat_v2, graph_sage\n",
    "\n",
    "# demo\n",
    "import matplotlib.pyplot as plt"
   ]
  },
  {
   "cell_type": "code",
   "execution_count": 8,
   "id": "8edf1b35",
   "metadata": {},
   "outputs": [],
   "source": [
    "train_fp = './tfgnn_dataset/nexmark_isBP_train.tfrecord'\n",
    "val_fp = './tfgnn_dataset/nexmark_isBP_val.tfrecord'\n",
    "test_fp = './tfgnn_dataset/nexmark_isBP_test.tfrecord'\n",
    "schema_fp = './tfgnn_dataset/schema_poc.pbtxt'"
   ]
  },
  {
   "cell_type": "code",
   "execution_count": 10,
   "id": "34591a60",
   "metadata": {},
   "outputs": [],
   "source": [
    "# Read the dataset of tf.Example protos for training.\n",
    "train_ds = tf.data.TFRecordDataset(filenames=[train_fp]).prefetch(10000)\n",
    "val_ds = tf.data.TFRecordDataset(filenames=[val_fp])\n",
    "test_ds = tf.data.TFRecordDataset(filenames=[test_fp])\n",
    "# Parse the GraphTensor values.\n",
    "graph_schema = tfgnn.read_schema(schema_fp)"
   ]
  },
  {
   "cell_type": "code",
   "execution_count": 11,
   "id": "d2dc5af2",
   "metadata": {},
   "outputs": [],
   "source": [
    "# def decode_fn(record_bytes, graph_schema):\n",
    "#     graph_tensor_spec = tfgnn.create_graph_spec_from_schema_pb(graph_schema)\n",
    "#     graph = tfgnn.parse_single_example(graph_tensor_spec, record_bytes, validate=True)\n",
    "\n",
    "#     # extract label from context and remove from input graph\n",
    "#     context_features = graph.context.get_features_dict()\n",
    "#     label = context_features.pop('label_isBP')\n",
    "#     new_graph = graph.replace_features(context=context_features)\n",
    "#     return new_graph, label"
   ]
  },
  {
   "cell_type": "code",
   "execution_count": 14,
   "id": "5432e8f5",
   "metadata": {},
   "outputs": [],
   "source": [
    "train_ds = train_ds.batch(5)"
   ]
  },
  {
   "cell_type": "code",
   "execution_count": 20,
   "id": "c5413fdc",
   "metadata": {},
   "outputs": [
    {
     "ename": "TypeError",
     "evalue": "parse_single_example() missing 1 required positional argument: 'serialized'",
     "output_type": "error",
     "traceback": [
      "\u001b[0;31m---------------------------------------------------------------------------\u001b[0m",
      "\u001b[0;31mTypeError\u001b[0m                                 Traceback (most recent call last)",
      "Cell \u001b[0;32mIn[20], line 2\u001b[0m\n\u001b[1;32m      1\u001b[0m example_input_spec \u001b[38;5;241m=\u001b[39m tfgnn\u001b[38;5;241m.\u001b[39mcreate_graph_spec_from_schema_pb(graph_schema)\n\u001b[0;32m----> 2\u001b[0m train_ds \u001b[38;5;241m=\u001b[39m train_ds\u001b[38;5;241m.\u001b[39mmap(\u001b[43mtfgnn\u001b[49m\u001b[38;5;241;43m.\u001b[39;49m\u001b[43mparse_single_example\u001b[49m\u001b[43m(\u001b[49m\u001b[43mexample_input_spec\u001b[49m\u001b[43m)\u001b[49m)\n",
      "\u001b[0;31mTypeError\u001b[0m: parse_single_example() missing 1 required positional argument: 'serialized'"
     ]
    }
   ],
   "source": [
    "example_input_spec = tfgnn.create_graph_spec_from_schema_pb(graph_schema)\n",
    "train_ds = train_ds.map(tfgnn.keras.layers.ParseExample(example_input_spec))"
   ]
  },
  {
   "cell_type": "code",
   "execution_count": 19,
   "id": "9bbdb7ff",
   "metadata": {},
   "outputs": [],
   "source": [
    "train_ds = train_ds.repeat()"
   ]
  },
  {
   "cell_type": "code",
   "execution_count": 4,
   "id": "9eb37564",
   "metadata": {},
   "outputs": [
    {
     "name": "stdout",
     "output_type": "stream",
     "text": [
      "WARNING:tensorflow:From /home/flink/workspace/yimin/data_explore/lib/python3.8/site-packages/tensorflow/python/autograph/pyct/static_analysis/liveness.py:83: Analyzer.lamba_check (from tensorflow.python.autograph.pyct.static_analysis.liveness) is deprecated and will be removed after 2023-09-23.\n",
      "Instructions for updating:\n",
      "Lambda fuctions will be no more assumed to be used in the statement where they are used, or at least in the same block. https://github.com/tensorflow/tensorflow/issues/56089\n"
     ]
    },
    {
     "data": {
      "text/plain": [
       "GraphTensorSpec({'context': ContextSpec({'features': {'label_isBP': TensorSpec(shape=(None, 1), dtype=tf.int64, name=None), 'bytes_input_rate': TensorSpec(shape=(None, 1, 1), dtype=tf.float32, name=None), 'records_input_rate': TensorSpec(shape=(None, 1, 1), dtype=tf.float32, name=None)}, 'sizes': TensorSpec(shape=(None, 1), dtype=tf.int32, name=None)}, TensorShape([None]), tf.int32, None), 'node_sets': {'operate': NodeSetSpec({'features': {'bytes_selectivity': RaggedTensorSpec(TensorShape([None, None, 1]), tf.float32, 1, tf.int32), 'records_selectivity': RaggedTensorSpec(TensorShape([None, None, 1]), tf.float32, 1, tf.int32), 'parallelism': RaggedTensorSpec(TensorShape([None, None, 1]), tf.float32, 1, tf.int32), 'utilization_embedding': RaggedTensorSpec(TensorShape([None, None, 6]), tf.float32, 1, tf.int32)}, 'sizes': TensorSpec(shape=(None, 1), dtype=tf.int32, name=None)}, TensorShape([None]), tf.int32, None), 'source': NodeSetSpec({'features': {'parallelism': RaggedTensorSpec(TensorShape([None, None, 1]), tf.float32, 1, tf.int32)}, 'sizes': TensorSpec(shape=(None, 1), dtype=tf.int32, name=None)}, TensorShape([None]), tf.int32, None)}, 'edge_sets': {'op2op': EdgeSetSpec({'features': {}, 'sizes': TensorSpec(shape=(None, 1), dtype=tf.int32, name=None), 'adjacency': AdjacencySpec({'#index.0': RaggedTensorSpec(TensorShape([None, None]), tf.int32, 1, tf.int32), '#index.1': RaggedTensorSpec(TensorShape([None, None]), tf.int32, 1, tf.int32)}, TensorShape([None]), tf.int32, {'#index.0': 'operate', '#index.1': 'operate'})}, TensorShape([None]), tf.int32, None), 'src2op': EdgeSetSpec({'features': {}, 'sizes': TensorSpec(shape=(None, 1), dtype=tf.int32, name=None), 'adjacency': AdjacencySpec({'#index.0': RaggedTensorSpec(TensorShape([None, None]), tf.int32, 1, tf.int32), '#index.1': RaggedTensorSpec(TensorShape([None, None]), tf.int32, 1, tf.int32)}, TensorShape([None]), tf.int32, {'#index.0': 'source', '#index.1': 'operate'})}, TensorShape([None]), tf.int32, None)}}, TensorShape([None]), tf.int32, None)"
      ]
     },
     "execution_count": 4,
     "metadata": {},
     "output_type": "execute_result"
    }
   ],
   "source": [
    "dataset.element_spec"
   ]
  },
  {
   "cell_type": "code",
   "execution_count": 5,
   "id": "a0aa6311",
   "metadata": {},
   "outputs": [],
   "source": [
    "# Define pre-process model for initial hidden states, actually all partial models\n",
    "def node_sets_fn(node_set, *, node_set_name):\n",
    "    if node_set_name == 'source':\n",
    "        return node_set['parallelism']\n",
    "    elif node_set_name == 'operate':\n",
    "        print(node_set)\n",
    "#         stacked_non_embed = tf.stack([node_set['bytes_selectivity'], \n",
    "#                                       node_set['records_selectivity'], \n",
    "#                                       node_set['parallelism']], axis=2)\n",
    "        stacked_non_embed = tf.keras.layers.Concatenate()([node_set['bytes_selectivity'], \n",
    "                                                          node_set['records_selectivity'], \n",
    "                                                            node_set['parallelism']])\n",
    "        print('stacked_non_embed:', stacked_non_embed)\n",
    "        return tf.keras.layers.Concatenate()([ \n",
    "            node_set['utilization_embedding'],\n",
    "            stacked_non_embed,\n",
    "            ])\n",
    "\n",
    "# def edge_sets_fn(): TODO\n",
    "\n",
    "def context_fn(context):\n",
    "#     stacked_cont = tf.stack([context['bytes_input_rate'], \n",
    "#                     context['records_input_rate'],], axis=2)\n",
    "    stacked_cont = tf.keras.layers.Concatenate()([context['bytes_input_rate'], \n",
    "                                                  context['records_input_rate'],],)\n",
    "    return {'hidden_state': stacked_cont,\n",
    "            'label_isBP': context['label_isBP']}\n",
    "\n",
    "def split_fn(graph):\n",
    "    labels = tfgnn.keras.layers.Readout(from_context=True,\n",
    "                                    feature_name=\"label_isBP\")(graph)\n",
    "    graph = graph.remove_features(context=['label_isBP'])\n",
    "    assert \"label_isBP\" not in graph.context.features\n",
    "    return graph, labels"
   ]
  },
  {
   "cell_type": "code",
   "execution_count": 6,
   "id": "596c7ce1",
   "metadata": {},
   "outputs": [
    {
     "name": "stdout",
     "output_type": "stream",
     "text": [
      "KerasTensor(type_spec=NodeSetSpec({'features': {'bytes_selectivity': RaggedTensorSpec(TensorShape([None, None, 1]), tf.float32, 1, tf.int32), 'records_selectivity': RaggedTensorSpec(TensorShape([None, None, 1]), tf.float32, 1, tf.int32), 'parallelism': RaggedTensorSpec(TensorShape([None, None, 1]), tf.float32, 1, tf.int32), 'utilization_embedding': RaggedTensorSpec(TensorShape([None, None, 6]), tf.float32, 1, tf.int32)}, 'sizes': TensorSpec(shape=(None, 1), dtype=tf.int32, name=None)}, TensorShape([None]), tf.int32, None), description=\"created by layer 'input_3'\")\n",
      "stacked_non_embed: KerasTensor(type_spec=RaggedTensorSpec(TensorShape([None, None, 3]), tf.float32, 1, tf.int32), description=\"created by layer 'concatenate_1'\")\n",
      "WARNING:tensorflow:Mapping types may not work well with tf.nest. Prefer using MutableMapping for <class 'tensorflow_gnn.graph.graph_tensor._ImmutableMapping'>\n",
      "WARNING:tensorflow:Mapping types may not work well with tf.nest. Prefer using MutableMapping for <class 'tensorflow_gnn.graph.graph_tensor._ImmutableMapping'>\n",
      "WARNING:tensorflow:Mapping types may not work well with tf.nest. Prefer using MutableMapping for <class 'tensorflow_gnn.graph.graph_tensor._ImmutableMapping'>\n"
     ]
    }
   ],
   "source": [
    "# Define and apply the preprocessing model. (now starts to define a graph model with the view of a scalar sample)\n",
    "preproc_input = tf.keras.layers.Input(type_spec=preproc_input_spec)\n",
    "graph = tfgnn.keras.layers.MapFeatures(node_sets_fn=node_sets_fn,\n",
    "                                      context_fn=context_fn,\n",
    "                                      )(preproc_input)  # With preprocessed features, see below.\n",
    "graph = graph.merge_batch_to_components()  # See section \"Merging a batch\".\n",
    "\n",
    "graph, mask = tfgnn.keras.layers.PadToTotalSizes(size_constraints)(graph) # pad\n",
    "graph, labels = split_fn(graph)  # See section \"Splitting the label off ...\".\n",
    "\n",
    "preproc_model = tf.keras.Model(preproc_input, (graph, labels, mask))  # now we defined the pp-model\n",
    "\n",
    "# above is just a defined computing process, the following is the process process on the whole dataset\n",
    "dataset = dataset.map(preproc_model)"
   ]
  },
  {
   "cell_type": "code",
   "execution_count": 7,
   "id": "f46b7a4d",
   "metadata": {},
   "outputs": [],
   "source": [
    "### testing\n",
    "DATASET_SIZE = 5460\n",
    "train_size = int(0.7 * DATASET_SIZE)\n",
    "val_size = int(0.15 * DATASET_SIZE)\n",
    "test_size = int(0.15 * DATASET_SIZE)\n",
    "\n",
    "train_dataset = dataset.take(train_size)\n",
    "test_dataset = dataset.skip(train_size)\n",
    "val_dataset = test_dataset.skip(test_size)\n",
    "test_dataset = test_dataset.take(test_size)\n",
    "\n",
    "dataset = train_dataset\n",
    "### end testing"
   ]
  },
  {
   "cell_type": "code",
   "execution_count": 8,
   "id": "a11f4e49",
   "metadata": {},
   "outputs": [
    {
     "data": {
      "text/plain": [
       "(['hidden_state'], ['hidden_state'])"
      ]
     },
     "execution_count": 8,
     "metadata": {},
     "output_type": "execute_result"
    }
   ],
   "source": [
    "# assert list(graph.node_sets[\"operate\"].keys()) == [tfgnn.HIDDEN_STATE]\n",
    "# BUG: not working, use manual checking:\n",
    "list(graph.node_sets['operate'].get_features_dict().keys()),list(graph.node_sets['source'].get_features_dict().keys())"
   ]
  },
  {
   "cell_type": "code",
   "execution_count": 9,
   "id": "5a5492e8",
   "metadata": {},
   "outputs": [],
   "source": [
    "# define gnn update logic (using gatv2)\n",
    "def gnn(graph):\n",
    "    for i in range(2):\n",
    "        graph = gat_v2.GATv2MPNNGraphUpdate(units=5, message_dim=5, num_heads=1, receiver_tag=tfgnn.TARGET)(graph)\n",
    "#         graph = gat_v2.GATv2MPNNGraphUpdate(units=5, message_dim=5, num_heads=1, receiver_tag=tfgnn.SOURCE,)(graph)\n",
    "    return graph"
   ]
  },
  {
   "cell_type": "code",
   "execution_count": 10,
   "id": "fd748526",
   "metadata": {},
   "outputs": [
    {
     "data": {
      "text/plain": [
       "GraphTensorSpec({'context': ContextSpec({'features': {'hidden_state': TensorSpec(shape=(11, 2), dtype=tf.float32, name=None)}, 'sizes': TensorSpec(shape=(11,), dtype=tf.int32, name=None)}, TensorShape([]), tf.int32, None), 'node_sets': {'operate': NodeSetSpec({'features': {'hidden_state': TensorSpec(shape=(27, 9), dtype=tf.float32, name=None)}, 'sizes': TensorSpec(shape=(11,), dtype=tf.int32, name=None)}, TensorShape([]), tf.int32, None), 'source': NodeSetSpec({'features': {'hidden_state': TensorSpec(shape=(11, 1), dtype=tf.float32, name=None)}, 'sizes': TensorSpec(shape=(11,), dtype=tf.int32, name=None)}, TensorShape([]), tf.int32, None)}, 'edge_sets': {'op2op': EdgeSetSpec({'features': {}, 'sizes': TensorSpec(shape=(11,), dtype=tf.int32, name=None), 'adjacency': AdjacencySpec({'#index.0': TensorSpec(shape=(16,), dtype=tf.int32, name=None), '#index.1': TensorSpec(shape=(16,), dtype=tf.int32, name=None)}, TensorShape([]), tf.int32, {'#index.0': 'operate', '#index.1': 'operate'})}, TensorShape([]), tf.int32, None), 'src2op': EdgeSetSpec({'features': {}, 'sizes': TensorSpec(shape=(11,), dtype=tf.int32, name=None), 'adjacency': AdjacencySpec({'#index.0': TensorSpec(shape=(16,), dtype=tf.int32, name=None), '#index.1': TensorSpec(shape=(16,), dtype=tf.int32, name=None)}, TensorShape([]), tf.int32, {'#index.0': 'source', '#index.1': 'operate'})}, TensorShape([]), tf.int32, None)}}, TensorShape([]), tf.int32, None)"
      ]
     },
     "execution_count": 10,
     "metadata": {},
     "output_type": "execute_result"
    }
   ],
   "source": [
    "model_input_spec, _, __ = dataset.element_spec\n",
    "model_input_spec"
   ]
  },
  {
   "cell_type": "code",
   "execution_count": 11,
   "id": "728ea06e",
   "metadata": {},
   "outputs": [
    {
     "name": "stdout",
     "output_type": "stream",
     "text": [
      "WARNING:tensorflow:AutoGraph could not transform <function check_scalar_graph_piece at 0x7fe8c1aa4b80> and will run it as-is.\n",
      "Please report this to the TensorFlow team. When filing the bug, set the verbosity to 10 (on Linux, `export AUTOGRAPH_VERBOSITY=10`) and attach the full output.\n",
      "Cause: annotated name 'piece_name' can't be nonlocal (__autograph_generated_filecjtikw8n.py, line 18)\n",
      "To silence this warning, decorate the function with @tf.autograph.experimental.do_not_convert\n",
      "WARNING: AutoGraph could not transform <function check_scalar_graph_piece at 0x7fe8c1aa4b80> and will run it as-is.\n",
      "Please report this to the TensorFlow team. When filing the bug, set the verbosity to 10 (on Linux, `export AUTOGRAPH_VERBOSITY=10`) and attach the full output.\n",
      "Cause: annotated name 'piece_name' can't be nonlocal (__autograph_generated_filecjtikw8n.py, line 18)\n",
      "To silence this warning, decorate the function with @tf.autograph.experimental.do_not_convert\n",
      "Model: \"model_1\"\n",
      "__________________________________________________________________________________________________\n",
      " Layer (type)                   Output Shape         Param #     Connected to                     \n",
      "==================================================================================================\n",
      " input_5 (InputLayer)           [()]                 0           []                               \n",
      "                                                                                                  \n",
      " graph_update (GraphUpdate)     ()                   270         ['input_5[0][0]']                \n",
      "                                                                                                  \n",
      " graph_update_1 (GraphUpdate)   ()                   190         ['graph_update[0][0]']           \n",
      "                                                                                                  \n",
      " pool (Pool)                    (11, 1)              0           ['graph_update_1[0][0]']         \n",
      "                                                                                                  \n",
      " pool_1 (Pool)                  (11, 5)              0           ['graph_update_1[0][0]']         \n",
      "                                                                                                  \n",
      " concatenate (Concatenate)      (11, 6)              0           ['pool[0][0]',                   \n",
      "                                                                  'pool_1[0][0]']                 \n",
      "                                                                                                  \n",
      " dense (Dense)                  (11, 1)              7           ['concatenate[0][0]']            \n",
      "                                                                                                  \n",
      "==================================================================================================\n",
      "Total params: 467\n",
      "Trainable params: 467\n",
      "Non-trainable params: 0\n",
      "__________________________________________________________________________________________________\n"
     ]
    }
   ],
   "source": [
    "# Define and train the main model.\n",
    "model_input_spec, _, __ = dataset.element_spec  # Drop the spec for the labels.\n",
    "model_input = tf.keras.layers.Input(type_spec=model_input_spec)\n",
    "graph = gnn(model_input) # apply gnn model\n",
    "\n",
    "# Classifying each graph as a whole, based on an aggregation of the node states from one node set\n",
    "pooled_features_s = tfgnn.keras.layers.Pool(tfgnn.CONTEXT, \"mean\", node_set_name=\"source\")(graph)\n",
    "pooled_features_op = tfgnn.keras.layers.Pool(tfgnn.CONTEXT, \"mean\", node_set_name=\"operate\")(graph)\n",
    "\n",
    "pooled_features = tf.keras.layers.concatenate([pooled_features_s, pooled_features_op])\n",
    "\n",
    "# logits = tf.keras.layers.Dense(1)(pooled_features_op) # output\n",
    "logits = tf.keras.layers.Dense(1)(pooled_features) # output\n",
    "\n",
    "model = tf.keras.Model(model_input, logits)\n",
    "\n",
    "# compile this model for binary classification\n",
    "model.compile(tf.keras.optimizers.Adam(),\n",
    "              loss=tf.keras.losses.BinaryCrossentropy(from_logits=True))\n",
    "model.summary()"
   ]
  },
  {
   "cell_type": "code",
   "execution_count": 12,
   "id": "d646cbec",
   "metadata": {},
   "outputs": [
    {
     "name": "stdout",
     "output_type": "stream",
     "text": [
      "Epoch 1/200\n",
      "10/10 [==============================] - 4s 7ms/step - loss: 1.7392\n",
      "Epoch 2/200\n",
      "10/10 [==============================] - 0s 4ms/step - loss: 1.6617\n",
      "Epoch 3/200\n",
      "10/10 [==============================] - 0s 7ms/step - loss: 1.4640\n",
      "Epoch 4/200\n",
      "10/10 [==============================] - 0s 6ms/step - loss: 1.4764\n",
      "Epoch 5/200\n",
      "10/10 [==============================] - 0s 6ms/step - loss: 1.3316\n",
      "Epoch 6/200\n",
      "10/10 [==============================] - 0s 6ms/step - loss: 1.0416\n",
      "Epoch 7/200\n",
      "10/10 [==============================] - 0s 6ms/step - loss: 0.8865\n",
      "Epoch 8/200\n",
      "10/10 [==============================] - 0s 6ms/step - loss: 0.8689\n",
      "Epoch 9/200\n",
      "10/10 [==============================] - 0s 6ms/step - loss: 0.8725\n",
      "Epoch 10/200\n",
      "10/10 [==============================] - 0s 6ms/step - loss: 0.7396\n",
      "Epoch 11/200\n",
      "10/10 [==============================] - 0s 5ms/step - loss: 0.7690\n",
      "Epoch 12/200\n",
      "10/10 [==============================] - 0s 5ms/step - loss: 0.7376\n",
      "Epoch 13/200\n",
      "10/10 [==============================] - 0s 6ms/step - loss: 0.7507\n",
      "Epoch 14/200\n",
      "10/10 [==============================] - 0s 5ms/step - loss: 0.7249\n",
      "Epoch 15/200\n",
      "10/10 [==============================] - 0s 5ms/step - loss: 0.7233\n",
      "Epoch 16/200\n",
      "10/10 [==============================] - 0s 5ms/step - loss: 0.6491\n",
      "Epoch 17/200\n",
      "10/10 [==============================] - 0s 5ms/step - loss: 0.6280\n",
      "Epoch 18/200\n",
      "10/10 [==============================] - 0s 5ms/step - loss: 0.5797\n",
      "Epoch 19/200\n",
      "10/10 [==============================] - 0s 7ms/step - loss: 0.6898\n",
      "Epoch 20/200\n",
      "10/10 [==============================] - 0s 5ms/step - loss: 0.6821\n",
      "Epoch 21/200\n",
      "10/10 [==============================] - 0s 5ms/step - loss: 0.6460\n",
      "Epoch 22/200\n",
      "10/10 [==============================] - 0s 5ms/step - loss: 0.7032\n",
      "Epoch 23/200\n",
      "10/10 [==============================] - 0s 5ms/step - loss: 0.6494\n",
      "Epoch 24/200\n",
      "10/10 [==============================] - 0s 5ms/step - loss: 0.5626\n",
      "Epoch 25/200\n",
      "10/10 [==============================] - 0s 5ms/step - loss: 0.6237\n",
      "Epoch 26/200\n",
      "10/10 [==============================] - 0s 5ms/step - loss: 0.6278\n",
      "Epoch 27/200\n",
      "10/10 [==============================] - 0s 5ms/step - loss: 0.6446\n",
      "Epoch 28/200\n",
      "10/10 [==============================] - 0s 5ms/step - loss: 0.5774\n",
      "Epoch 29/200\n",
      "10/10 [==============================] - 0s 5ms/step - loss: 0.6166\n",
      "Epoch 30/200\n",
      "10/10 [==============================] - 0s 5ms/step - loss: 0.5806\n",
      "Epoch 31/200\n",
      "10/10 [==============================] - 0s 5ms/step - loss: 0.5996\n",
      "Epoch 32/200\n",
      "10/10 [==============================] - 0s 5ms/step - loss: 0.5658\n",
      "Epoch 33/200\n",
      "10/10 [==============================] - 0s 5ms/step - loss: 0.5703\n",
      "Epoch 34/200\n",
      "10/10 [==============================] - 0s 5ms/step - loss: 0.6451\n",
      "Epoch 35/200\n",
      "10/10 [==============================] - 0s 5ms/step - loss: 0.5956\n",
      "Epoch 36/200\n",
      "10/10 [==============================] - 0s 5ms/step - loss: 0.6624\n",
      "Epoch 37/200\n",
      "10/10 [==============================] - 0s 5ms/step - loss: 0.5664\n",
      "Epoch 38/200\n",
      "10/10 [==============================] - 0s 5ms/step - loss: 0.5569\n",
      "Epoch 39/200\n",
      "10/10 [==============================] - 0s 5ms/step - loss: 0.5201\n",
      "Epoch 40/200\n",
      "10/10 [==============================] - 0s 5ms/step - loss: 0.6328\n",
      "Epoch 41/200\n",
      "10/10 [==============================] - 0s 5ms/step - loss: 0.5788\n",
      "Epoch 42/200\n",
      "10/10 [==============================] - 0s 5ms/step - loss: 0.5338\n",
      "Epoch 43/200\n",
      "10/10 [==============================] - 0s 5ms/step - loss: 0.5915\n",
      "Epoch 44/200\n",
      "10/10 [==============================] - 0s 5ms/step - loss: 0.5709\n",
      "Epoch 45/200\n",
      "10/10 [==============================] - 0s 5ms/step - loss: 0.5698\n",
      "Epoch 46/200\n",
      "10/10 [==============================] - 0s 5ms/step - loss: 0.6594\n",
      "Epoch 47/200\n",
      "10/10 [==============================] - 0s 5ms/step - loss: 0.5783\n",
      "Epoch 48/200\n",
      "10/10 [==============================] - 0s 5ms/step - loss: 0.6005\n",
      "Epoch 49/200\n",
      "10/10 [==============================] - 0s 5ms/step - loss: 0.6007\n",
      "Epoch 50/200\n",
      "10/10 [==============================] - 0s 5ms/step - loss: 0.5503\n",
      "Epoch 51/200\n",
      "10/10 [==============================] - 0s 5ms/step - loss: 0.5981\n",
      "Epoch 52/200\n",
      "10/10 [==============================] - 0s 5ms/step - loss: 0.5642\n",
      "Epoch 53/200\n",
      "10/10 [==============================] - 0s 5ms/step - loss: 0.5657\n",
      "Epoch 54/200\n",
      "10/10 [==============================] - 0s 5ms/step - loss: 0.6123\n",
      "Epoch 55/200\n",
      "10/10 [==============================] - 0s 5ms/step - loss: 0.5619\n",
      "Epoch 56/200\n",
      "10/10 [==============================] - 0s 5ms/step - loss: 0.6078\n",
      "Epoch 57/200\n",
      "10/10 [==============================] - 0s 5ms/step - loss: 0.5801\n",
      "Epoch 58/200\n",
      "10/10 [==============================] - 0s 5ms/step - loss: 0.5594\n",
      "Epoch 59/200\n",
      "10/10 [==============================] - 0s 5ms/step - loss: 0.5744\n",
      "Epoch 60/200\n",
      "10/10 [==============================] - 0s 5ms/step - loss: 0.5650\n",
      "Epoch 61/200\n",
      "10/10 [==============================] - 0s 6ms/step - loss: 0.5252\n",
      "Epoch 62/200\n",
      "10/10 [==============================] - 0s 5ms/step - loss: 0.5816\n",
      "Epoch 63/200\n",
      "10/10 [==============================] - 0s 5ms/step - loss: 0.5394\n",
      "Epoch 64/200\n",
      "10/10 [==============================] - 0s 5ms/step - loss: 0.5681\n",
      "Epoch 65/200\n",
      "10/10 [==============================] - 0s 5ms/step - loss: 0.5846\n",
      "Epoch 66/200\n",
      "10/10 [==============================] - 0s 5ms/step - loss: 0.5579\n",
      "Epoch 67/200\n",
      "10/10 [==============================] - 0s 5ms/step - loss: 0.5498\n",
      "Epoch 68/200\n",
      "10/10 [==============================] - 0s 5ms/step - loss: 0.5386\n",
      "Epoch 69/200\n",
      "10/10 [==============================] - 0s 5ms/step - loss: 0.5599\n",
      "Epoch 70/200\n",
      "10/10 [==============================] - 0s 5ms/step - loss: 0.6147\n",
      "Epoch 71/200\n",
      "10/10 [==============================] - 0s 5ms/step - loss: 0.4998\n",
      "Epoch 72/200\n",
      "10/10 [==============================] - 0s 5ms/step - loss: 0.5419\n",
      "Epoch 73/200\n",
      "10/10 [==============================] - 0s 5ms/step - loss: 0.5499\n",
      "Epoch 74/200\n",
      "10/10 [==============================] - 0s 5ms/step - loss: 0.5742\n",
      "Epoch 75/200\n",
      "10/10 [==============================] - 0s 5ms/step - loss: 0.5353\n",
      "Epoch 76/200\n",
      "10/10 [==============================] - 0s 5ms/step - loss: 0.5443\n",
      "Epoch 77/200\n",
      "10/10 [==============================] - 0s 5ms/step - loss: 0.5474\n",
      "Epoch 78/200\n",
      "10/10 [==============================] - 0s 5ms/step - loss: 0.5935\n",
      "Epoch 79/200\n",
      "10/10 [==============================] - 0s 5ms/step - loss: 0.5547\n",
      "Epoch 80/200\n",
      "10/10 [==============================] - 0s 5ms/step - loss: 0.5362\n",
      "Epoch 81/200\n",
      "10/10 [==============================] - 0s 5ms/step - loss: 0.5653\n",
      "Epoch 82/200\n",
      "10/10 [==============================] - 0s 5ms/step - loss: 0.5847\n",
      "Epoch 83/200\n",
      "10/10 [==============================] - 0s 5ms/step - loss: 0.5389\n",
      "Epoch 84/200\n",
      "10/10 [==============================] - 0s 5ms/step - loss: 0.5176\n",
      "Epoch 85/200\n",
      "10/10 [==============================] - 0s 5ms/step - loss: 0.6087\n",
      "Epoch 86/200\n",
      "10/10 [==============================] - 0s 5ms/step - loss: 0.5634\n",
      "Epoch 87/200\n",
      "10/10 [==============================] - 0s 5ms/step - loss: 0.5419\n",
      "Epoch 88/200\n",
      "10/10 [==============================] - 0s 5ms/step - loss: 0.5322\n",
      "Epoch 89/200\n",
      "10/10 [==============================] - 0s 6ms/step - loss: 0.5561\n",
      "Epoch 90/200\n",
      "10/10 [==============================] - 0s 5ms/step - loss: 0.5156\n",
      "Epoch 91/200\n",
      "10/10 [==============================] - 0s 5ms/step - loss: 0.5624\n",
      "Epoch 92/200\n",
      "10/10 [==============================] - 0s 5ms/step - loss: 0.6084\n",
      "Epoch 93/200\n",
      "10/10 [==============================] - 0s 5ms/step - loss: 0.5482\n",
      "Epoch 94/200\n",
      "10/10 [==============================] - 0s 5ms/step - loss: 0.5597\n",
      "Epoch 95/200\n",
      "10/10 [==============================] - 0s 5ms/step - loss: 0.5860\n",
      "Epoch 96/200\n",
      "10/10 [==============================] - 0s 5ms/step - loss: 0.5230\n",
      "Epoch 97/200\n",
      "10/10 [==============================] - 0s 5ms/step - loss: 0.5358\n",
      "Epoch 98/200\n",
      "10/10 [==============================] - 0s 6ms/step - loss: 0.5671\n",
      "Epoch 99/200\n",
      "10/10 [==============================] - 0s 5ms/step - loss: 0.5568\n",
      "Epoch 100/200\n",
      "10/10 [==============================] - 0s 5ms/step - loss: 0.5168\n",
      "Epoch 101/200\n",
      "10/10 [==============================] - 0s 7ms/step - loss: 0.5392\n",
      "Epoch 102/200\n",
      "10/10 [==============================] - 0s 5ms/step - loss: 0.5200\n",
      "Epoch 103/200\n",
      "10/10 [==============================] - 0s 5ms/step - loss: 0.4684\n",
      "Epoch 104/200\n",
      "10/10 [==============================] - 0s 5ms/step - loss: 0.5146\n",
      "Epoch 105/200\n",
      "10/10 [==============================] - 0s 5ms/step - loss: 0.5256\n",
      "Epoch 106/200\n",
      "10/10 [==============================] - 0s 5ms/step - loss: 0.4921\n",
      "Epoch 107/200\n",
      "10/10 [==============================] - 0s 5ms/step - loss: 0.5431\n",
      "Epoch 108/200\n",
      "10/10 [==============================] - 0s 5ms/step - loss: 0.5196\n",
      "Epoch 109/200\n",
      "10/10 [==============================] - 0s 5ms/step - loss: 0.4926\n",
      "Epoch 110/200\n",
      "10/10 [==============================] - 0s 5ms/step - loss: 0.5474\n",
      "Epoch 111/200\n",
      "10/10 [==============================] - 0s 5ms/step - loss: 0.5678\n",
      "Epoch 112/200\n",
      "10/10 [==============================] - 0s 5ms/step - loss: 0.5430\n",
      "Epoch 113/200\n",
      "10/10 [==============================] - 0s 5ms/step - loss: 0.5145\n",
      "Epoch 114/200\n",
      "10/10 [==============================] - 0s 5ms/step - loss: 0.5507\n",
      "Epoch 115/200\n",
      "10/10 [==============================] - 0s 5ms/step - loss: 0.5521\n",
      "Epoch 116/200\n",
      "10/10 [==============================] - 0s 5ms/step - loss: 0.5158\n",
      "Epoch 117/200\n",
      "10/10 [==============================] - 0s 5ms/step - loss: 0.5619\n",
      "Epoch 118/200\n",
      "10/10 [==============================] - 0s 7ms/step - loss: 0.5291\n",
      "Epoch 119/200\n",
      "10/10 [==============================] - 0s 5ms/step - loss: 0.4679\n",
      "Epoch 120/200\n",
      "10/10 [==============================] - 0s 5ms/step - loss: 0.5324\n",
      "Epoch 121/200\n",
      "10/10 [==============================] - 0s 5ms/step - loss: 0.5584\n",
      "Epoch 122/200\n",
      "10/10 [==============================] - 0s 5ms/step - loss: 0.4795\n",
      "Epoch 123/200\n",
      "10/10 [==============================] - 0s 5ms/step - loss: 0.4933\n",
      "Epoch 124/200\n",
      "10/10 [==============================] - 0s 5ms/step - loss: 0.5051\n",
      "Epoch 125/200\n",
      "10/10 [==============================] - 0s 5ms/step - loss: 0.5014\n",
      "Epoch 126/200\n",
      "10/10 [==============================] - 0s 6ms/step - loss: 0.5240\n",
      "Epoch 127/200\n",
      "10/10 [==============================] - 0s 5ms/step - loss: 0.5020\n",
      "Epoch 128/200\n",
      "10/10 [==============================] - 0s 6ms/step - loss: 0.5043\n",
      "Epoch 129/200\n",
      "10/10 [==============================] - 0s 5ms/step - loss: 0.4868\n",
      "Epoch 130/200\n",
      "10/10 [==============================] - 0s 5ms/step - loss: 0.5462\n",
      "Epoch 131/200\n",
      "10/10 [==============================] - 0s 5ms/step - loss: 0.6259\n",
      "Epoch 132/200\n",
      "10/10 [==============================] - 0s 5ms/step - loss: 0.5291\n",
      "Epoch 133/200\n",
      "10/10 [==============================] - 0s 5ms/step - loss: 0.6108\n",
      "Epoch 134/200\n",
      "10/10 [==============================] - 0s 5ms/step - loss: 0.5716\n",
      "Epoch 135/200\n",
      "10/10 [==============================] - 0s 5ms/step - loss: 0.5423\n",
      "Epoch 136/200\n",
      "10/10 [==============================] - 0s 5ms/step - loss: 0.5100\n",
      "Epoch 137/200\n",
      "10/10 [==============================] - 0s 5ms/step - loss: 0.5396\n",
      "Epoch 138/200\n",
      "10/10 [==============================] - 0s 5ms/step - loss: 0.5280\n",
      "Epoch 139/200\n",
      "10/10 [==============================] - 0s 5ms/step - loss: 0.5177\n",
      "Epoch 140/200\n",
      "10/10 [==============================] - 0s 5ms/step - loss: 0.5096\n",
      "Epoch 141/200\n",
      "10/10 [==============================] - 0s 6ms/step - loss: 0.5004\n",
      "Epoch 142/200\n",
      "10/10 [==============================] - 0s 5ms/step - loss: 0.5509\n",
      "Epoch 143/200\n",
      "10/10 [==============================] - 0s 5ms/step - loss: 0.5110\n",
      "Epoch 144/200\n",
      "10/10 [==============================] - 0s 5ms/step - loss: 0.5712\n",
      "Epoch 145/200\n",
      "10/10 [==============================] - 0s 5ms/step - loss: 0.5096\n",
      "Epoch 146/200\n",
      "10/10 [==============================] - 0s 5ms/step - loss: 0.5621\n",
      "Epoch 147/200\n",
      "10/10 [==============================] - 0s 5ms/step - loss: 0.5307\n",
      "Epoch 148/200\n",
      "10/10 [==============================] - 0s 6ms/step - loss: 0.5418\n",
      "Epoch 149/200\n",
      "10/10 [==============================] - 0s 5ms/step - loss: 0.5332\n",
      "Epoch 150/200\n",
      "10/10 [==============================] - 0s 5ms/step - loss: 0.6032\n",
      "Epoch 151/200\n",
      "10/10 [==============================] - 0s 5ms/step - loss: 0.4909\n",
      "Epoch 152/200\n",
      "10/10 [==============================] - 0s 5ms/step - loss: 0.4790\n",
      "Epoch 153/200\n",
      "10/10 [==============================] - 0s 5ms/step - loss: 0.5969\n",
      "Epoch 154/200\n",
      "10/10 [==============================] - 0s 5ms/step - loss: 0.5314\n",
      "Epoch 155/200\n",
      "10/10 [==============================] - 0s 5ms/step - loss: 0.5812\n",
      "Epoch 156/200\n",
      "10/10 [==============================] - 0s 5ms/step - loss: 0.5163\n",
      "Epoch 157/200\n",
      "10/10 [==============================] - 0s 5ms/step - loss: 0.5615\n",
      "Epoch 158/200\n",
      "10/10 [==============================] - 0s 5ms/step - loss: 0.4701\n",
      "Epoch 159/200\n",
      "10/10 [==============================] - 0s 5ms/step - loss: 0.5074\n",
      "Epoch 160/200\n",
      "10/10 [==============================] - 0s 5ms/step - loss: 0.5081\n",
      "Epoch 161/200\n",
      "10/10 [==============================] - 0s 5ms/step - loss: 0.4999\n",
      "Epoch 162/200\n",
      "10/10 [==============================] - 0s 5ms/step - loss: 0.5339\n",
      "Epoch 163/200\n",
      "10/10 [==============================] - 0s 5ms/step - loss: 0.5420\n",
      "Epoch 164/200\n",
      "10/10 [==============================] - 0s 6ms/step - loss: 0.5083\n",
      "Epoch 165/200\n",
      "10/10 [==============================] - 0s 5ms/step - loss: 0.5524\n",
      "Epoch 166/200\n",
      "10/10 [==============================] - 0s 5ms/step - loss: 0.4870\n",
      "Epoch 167/200\n",
      "10/10 [==============================] - 0s 5ms/step - loss: 0.5396\n",
      "Epoch 168/200\n",
      "10/10 [==============================] - 0s 5ms/step - loss: 0.5544\n",
      "Epoch 169/200\n",
      "10/10 [==============================] - 0s 5ms/step - loss: 0.5441\n",
      "Epoch 170/200\n",
      "10/10 [==============================] - 0s 5ms/step - loss: 0.6079\n",
      "Epoch 171/200\n",
      "10/10 [==============================] - 0s 5ms/step - loss: 0.5605\n",
      "Epoch 172/200\n",
      "10/10 [==============================] - 0s 5ms/step - loss: 0.5006\n",
      "Epoch 173/200\n",
      "10/10 [==============================] - 0s 5ms/step - loss: 0.5032\n",
      "Epoch 174/200\n",
      "10/10 [==============================] - 0s 5ms/step - loss: 0.5543\n",
      "Epoch 175/200\n",
      "10/10 [==============================] - 0s 5ms/step - loss: 0.5397\n",
      "Epoch 176/200\n",
      "10/10 [==============================] - 0s 5ms/step - loss: 0.5830\n",
      "Epoch 177/200\n",
      "10/10 [==============================] - 0s 5ms/step - loss: 0.5457\n",
      "Epoch 178/200\n",
      "10/10 [==============================] - 0s 5ms/step - loss: 0.4856\n",
      "Epoch 179/200\n",
      "10/10 [==============================] - 0s 5ms/step - loss: 0.5071\n",
      "Epoch 180/200\n",
      "10/10 [==============================] - 0s 5ms/step - loss: 0.4969\n",
      "Epoch 181/200\n",
      "10/10 [==============================] - 0s 6ms/step - loss: 0.5717\n",
      "Epoch 182/200\n",
      "10/10 [==============================] - 0s 5ms/step - loss: 0.5489\n",
      "Epoch 183/200\n",
      "10/10 [==============================] - 0s 5ms/step - loss: 0.5070\n",
      "Epoch 184/200\n",
      "10/10 [==============================] - 0s 5ms/step - loss: 0.4797\n",
      "Epoch 185/200\n",
      "10/10 [==============================] - 0s 5ms/step - loss: 0.5663\n",
      "Epoch 186/200\n",
      "10/10 [==============================] - 0s 5ms/step - loss: 0.5216\n",
      "Epoch 187/200\n",
      " 1/10 [==>...........................] - ETA: 0s - loss: 0.4767"
     ]
    },
    {
     "ename": "InvalidArgumentError",
     "evalue": "Graph execution error:\n\nassertion failed: [Could not pad <op2op> as it already has more edges then it is allowed by the `total_sizes.total_num_edges[<op2op>]`.] [Condition x == y did not hold element-wise:] [x (model/pad_to_total_sizes/LessEqual_5:0) = ] [0] [y (model/pad_to_total_sizes/assert_equal_15/y:0) = ] [1]\n\t [[{{node model/pad_to_total_sizes/assert_equal_15/Assert/AssertGuard/Assert}}]]\n\t [[IteratorGetNext]] [Op:__inference_train_function_9521]",
     "output_type": "error",
     "traceback": [
      "\u001b[0;31m---------------------------------------------------------------------------\u001b[0m",
      "\u001b[0;31mInvalidArgumentError\u001b[0m                      Traceback (most recent call last)",
      "Cell \u001b[0;32mIn[12], line 2\u001b[0m\n\u001b[1;32m      1\u001b[0m \u001b[38;5;66;03m# train\u001b[39;00m\n\u001b[0;32m----> 2\u001b[0m history \u001b[38;5;241m=\u001b[39m \u001b[43mmodel\u001b[49m\u001b[38;5;241;43m.\u001b[39;49m\u001b[43mfit\u001b[49m\u001b[43m(\u001b[49m\u001b[43m \u001b[49m\u001b[43mdataset\u001b[49m\u001b[43m,\u001b[49m\n\u001b[1;32m      3\u001b[0m \u001b[43m                     \u001b[49m\u001b[43msteps_per_epoch\u001b[49m\u001b[38;5;241;43m=\u001b[39;49m\u001b[38;5;241;43m10\u001b[39;49m\u001b[43m,\u001b[49m\n\u001b[1;32m      4\u001b[0m \u001b[43m                     \u001b[49m\u001b[43mepochs\u001b[49m\u001b[38;5;241;43m=\u001b[39;49m\u001b[38;5;241;43m200\u001b[39;49m\u001b[43m,\u001b[49m\u001b[43m)\u001b[49m\n",
      "File \u001b[0;32m~/workspace/yimin/data_explore/lib/python3.8/site-packages/keras/utils/traceback_utils.py:70\u001b[0m, in \u001b[0;36mfilter_traceback.<locals>.error_handler\u001b[0;34m(*args, **kwargs)\u001b[0m\n\u001b[1;32m     67\u001b[0m     filtered_tb \u001b[38;5;241m=\u001b[39m _process_traceback_frames(e\u001b[38;5;241m.\u001b[39m__traceback__)\n\u001b[1;32m     68\u001b[0m     \u001b[38;5;66;03m# To get the full stack trace, call:\u001b[39;00m\n\u001b[1;32m     69\u001b[0m     \u001b[38;5;66;03m# `tf.debugging.disable_traceback_filtering()`\u001b[39;00m\n\u001b[0;32m---> 70\u001b[0m     \u001b[38;5;28;01mraise\u001b[39;00m e\u001b[38;5;241m.\u001b[39mwith_traceback(filtered_tb) \u001b[38;5;28;01mfrom\u001b[39;00m \u001b[38;5;28mNone\u001b[39m\n\u001b[1;32m     71\u001b[0m \u001b[38;5;28;01mfinally\u001b[39;00m:\n\u001b[1;32m     72\u001b[0m     \u001b[38;5;28;01mdel\u001b[39;00m filtered_tb\n",
      "File \u001b[0;32m~/workspace/yimin/data_explore/lib/python3.8/site-packages/tensorflow/python/eager/execute.py:52\u001b[0m, in \u001b[0;36mquick_execute\u001b[0;34m(op_name, num_outputs, inputs, attrs, ctx, name)\u001b[0m\n\u001b[1;32m     50\u001b[0m \u001b[38;5;28;01mtry\u001b[39;00m:\n\u001b[1;32m     51\u001b[0m   ctx\u001b[38;5;241m.\u001b[39mensure_initialized()\n\u001b[0;32m---> 52\u001b[0m   tensors \u001b[38;5;241m=\u001b[39m pywrap_tfe\u001b[38;5;241m.\u001b[39mTFE_Py_Execute(ctx\u001b[38;5;241m.\u001b[39m_handle, device_name, op_name,\n\u001b[1;32m     53\u001b[0m                                       inputs, attrs, num_outputs)\n\u001b[1;32m     54\u001b[0m \u001b[38;5;28;01mexcept\u001b[39;00m core\u001b[38;5;241m.\u001b[39m_NotOkStatusException \u001b[38;5;28;01mas\u001b[39;00m e:\n\u001b[1;32m     55\u001b[0m   \u001b[38;5;28;01mif\u001b[39;00m name \u001b[38;5;129;01mis\u001b[39;00m \u001b[38;5;129;01mnot\u001b[39;00m \u001b[38;5;28;01mNone\u001b[39;00m:\n",
      "\u001b[0;31mInvalidArgumentError\u001b[0m: Graph execution error:\n\nassertion failed: [Could not pad <op2op> as it already has more edges then it is allowed by the `total_sizes.total_num_edges[<op2op>]`.] [Condition x == y did not hold element-wise:] [x (model/pad_to_total_sizes/LessEqual_5:0) = ] [0] [y (model/pad_to_total_sizes/assert_equal_15/y:0) = ] [1]\n\t [[{{node model/pad_to_total_sizes/assert_equal_15/Assert/AssertGuard/Assert}}]]\n\t [[IteratorGetNext]] [Op:__inference_train_function_9521]"
     ]
    }
   ],
   "source": [
    "# train\n",
    "history = model.fit( dataset,\n",
    "                     steps_per_epoch=10,\n",
    "                     epochs=200,)"
   ]
  },
  {
   "cell_type": "code",
   "execution_count": null,
   "id": "60bf9f44",
   "metadata": {},
   "outputs": [],
   "source": [
    "# Export the combined SavedModel for serving.\n",
    "# this part can be waived for current situation..\n",
    "# serving_input = tf.keras.layers.Input(shape=[],  # The batch dim is implied.\n",
    "#                                       dtype=tf.string, name=\"examples\")\n",
    "# preproc_input = tfgnn.keras.layers.ParseExample(example_input_spec)(serving_input)\n",
    "# serving_model_input, _ = preproc_model(preproc_input)  # Drop labels.\n",
    "# serving_logits = model(serving_model_input)\n",
    "# serving_output = {\"logits\": tf.keras.layers.Layer(name=\"logits\")(serving_logits)}\n",
    "# exported_model = tf.keras.Model(serving_input, serving_output)\n",
    "# exported_model.save(\"/tmp/exported_keras_model\", include_optimizer=False)"
   ]
  },
  {
   "cell_type": "code",
   "execution_count": 27,
   "id": "16d5f58b",
   "metadata": {},
   "outputs": [
    {
     "data": {
      "text/plain": [
       "<tf.Tensor: shape=(3,), dtype=int32, numpy=array([1, 2, 3], dtype=int32)>"
      ]
     },
     "execution_count": 27,
     "metadata": {},
     "output_type": "execute_result"
    }
   ],
   "source": [
    "tf.stack([1,2,3])"
   ]
  },
  {
   "cell_type": "code",
   "execution_count": 82,
   "id": "9fe1521c",
   "metadata": {},
   "outputs": [
    {
     "data": {
      "image/png": "[encoded data removed]",
      "text/plain": [
       "<Figure size 640x480 with 1 Axes>"
      ]
     },
     "metadata": {},
     "output_type": "display_data"
    }
   ],
   "source": [
    "for k, hist in history.history.items():\n",
    "    plt.plot(hist)\n",
    "    plt.title(k)\n",
    "    plt.show()"
   ]
  },
  {
   "cell_type": "code",
   "execution_count": 89,
   "id": "a0a2d100",
   "metadata": {},
   "outputs": [
    {
     "data": {
      "text/plain": [
       "<TakeDataset element_spec=(GraphTensorSpec({'context': ContextSpec({'features': {'hidden_state': TensorSpec(shape=(11, 2), dtype=tf.float32, name=None)}, 'sizes': TensorSpec(shape=(11,), dtype=tf.int32, name=None)}, TensorShape([]), tf.int32, None), 'node_sets': {'source': NodeSetSpec({'features': {'hidden_state': TensorSpec(shape=(11, 1), dtype=tf.float32, name=None)}, 'sizes': TensorSpec(shape=(11,), dtype=tf.int32, name=None)}, TensorShape([]), tf.int32, None), 'operate': NodeSetSpec({'features': {'hidden_state': TensorSpec(shape=(27, 9), dtype=tf.float32, name=None)}, 'sizes': TensorSpec(shape=(11,), dtype=tf.int32, name=None)}, TensorShape([]), tf.int32, None)}, 'edge_sets': {'op2op': EdgeSetSpec({'features': {}, 'sizes': TensorSpec(shape=(11,), dtype=tf.int32, name=None), 'adjacency': AdjacencySpec({'#index.0': TensorSpec(shape=(16,), dtype=tf.int32, name=None), '#index.1': TensorSpec(shape=(16,), dtype=tf.int32, name=None)}, TensorShape([]), tf.int32, {'#index.0': 'operate', '#index.1': 'operate'})}, TensorShape([]), tf.int32, None), 'src2op': EdgeSetSpec({'features': {}, 'sizes': TensorSpec(shape=(11,), dtype=tf.int32, name=None), 'adjacency': AdjacencySpec({'#index.0': TensorSpec(shape=(16,), dtype=tf.int32, name=None), '#index.1': TensorSpec(shape=(16,), dtype=tf.int32, name=None)}, TensorShape([]), tf.int32, {'#index.0': 'source', '#index.1': 'operate'})}, TensorShape([]), tf.int32, None)}}, TensorShape([]), tf.int32, None), TensorSpec(shape=(11,), dtype=tf.int64, name=None), TensorSpec(shape=(11,), dtype=tf.bool, name=None))>"
      ]
     },
     "execution_count": 89,
     "metadata": {},
     "output_type": "execute_result"
    }
   ],
   "source": [
    "test_dataset"
   ]
  },
  {
   "cell_type": "code",
   "execution_count": null,
   "id": "31759c97",
   "metadata": {},
   "outputs": [],
   "source": []
  }
 ],
 "metadata": {
  "kernelspec": {
   "display_name": "Python 3 (ipykernel)",
   "language": "python",
   "name": "python3"
  },
  "language_info": {
   "codemirror_mode": {
    "name": "ipython",
    "version": 3
   },
   "file_extension": ".py",
   "mimetype": "text/x-python",
   "name": "python",
   "nbconvert_exporter": "python",
   "pygments_lexer": "ipython3",
   "version": "3.8.15"
  }
 },
 "nbformat": 4,
 "nbformat_minor": 5
}
