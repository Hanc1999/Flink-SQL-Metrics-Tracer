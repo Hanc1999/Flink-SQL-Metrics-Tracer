{
 "cells": [
  {
   "cell_type": "code",
   "execution_count": 1,
   "metadata": {},
   "outputs": [],
   "source": [
    "import sys\n",
    "sys.path.append(\"..\")\n",
    "from utils.fetcher import *"
   ]
  },
  {
   "cell_type": "code",
   "execution_count": 3,
   "metadata": {},
   "outputs": [
    {
     "data": {
      "text/plain": [
       "(8, '7fc60b99deae043b7bb408546be77cf0')"
      ]
     },
     "execution_count": 3,
     "metadata": {},
     "output_type": "execute_result"
    }
   ],
   "source": [
    "vs, jid = fetch_job_vertices()\n",
    "vs[0]['parallelism'], jid"
   ]
  },
  {
   "cell_type": "code",
   "execution_count": 4,
   "metadata": {},
   "outputs": [],
   "source": [
    "vids, vmetrics = fetch_job_vertice_metrics(vs, jid)"
   ]
  },
  {
   "cell_type": "code",
   "execution_count": 5,
   "metadata": {},
   "outputs": [],
   "source": [
    "# vmetrics[0]"
   ]
  },
  {
   "cell_type": "code",
   "execution_count": 6,
   "metadata": {
    "scrolled": false
   },
   "outputs": [],
   "source": [
    "# wanted = ['numRecordsInPerSecond']\n",
    "# search_job_vertice_metric_values(wanted, jid, vids[0], vmetrics[0], showurl=True)"
   ]
  },
  {
   "cell_type": "markdown",
   "metadata": {},
   "source": [
    "#### The following is achieve-able metrics from job-level, vertex-level, subtask-level from Q7"
   ]
  },
  {
   "cell_type": "markdown",
   "metadata": {},
   "source": [
    "## Job-level\n",
    "\n",
    "http://172.28.176.179:8081/jobs/76d4bb43b24ada982d521d98b8fcca3c/metrics\n",
    "\n",
    "[{\"id\":\"numberOfFailedCheckpoints\"},{\"id\":\"cancellingTime\"},{\"id\":\"lastCheckpointSize\"},{\"id\":\"totalNumberOfCheckpoints\"},{\"id\":\"lastCheckpointExternalPath\"},{\"id\":\"lastCheckpointRestoreTimestamp\"},{\"id\":\"failingTime\"},{\"id\":\"runningTime\"},{\"id\":\"uptime\"},{\"id\":\"restartingTime\"},{\"id\":\"numberOfInProgressCheckpoints\"},{\"id\":\"initializingTime\"},{\"id\":\"downtime\"},{\"id\":\"numberOfCompletedCheckpoints\"},{\"id\":\"lastCheckpointProcessedData\"},{\"id\":\"deployingTime\"},{\"id\":\"lastCheckpointFullSize\"},{\"id\":\"fullRestarts\"},{\"id\":\"createdTime\"},{\"id\":\"lastCheckpointDuration\"},{\"id\":\"lastCheckpointPersistedData\"}]\n",
    "\n",
    "http://172.28.176.179:8081/jobs/918158c93d3a98e70ca7a2937afc1826\n",
    "\n",
    "{\"jid\":\"918158c93d3a98e70ca7a2937afc1826\",\"name\":\"insert-into_default_catalog.default_database.discard_sink\",\"isStoppable\":false,\"state\":\"RUNNING\",\"start-time\":1667986398135,\"end-time\":-1,\"duration\":39566,\"maxParallelism\":-1,\"now\":1667986437701,\"timestamps\":{\"CANCELED\":0,\"INITIALIZING\":1667986398135,\"FAILING\":0,\"RUNNING\":1667986398361,\"FAILED\":0,\"CANCELLING\":0,\"RECONCILING\":0,\"RESTARTING\":0,\"CREATED\":1667986398238,\"FINISHED\":0,\"SUSPENDED\":0},\n",
    "\n",
    "\n",
    "\"vertices\":\n",
    "[\n",
    "\n",
    "    {\"id\":\"c783d1ea922c420880b56da4fffd1f2a\",\"name\":\"Source: datagen[1] -> Calc[2] -> WatermarkAssigner[3] -> (Calc[4], Calc[6])\",\"maxParallelism\":128,\"parallelism\":4,\"status\":\"RUNNING\",\"start-time\":1667986398562,\"end-time\":-1,\"duration\":39139,\"tasks\":{\"SCHEDULED\":0,\"FINISHED\":0,\"CANCELING\":0,\"INITIALIZING\":0,\"RECONCILING\":0,\"FAILED\":0,\"CREATED\":0,\"RUNNING\":4,\"DEPLOYING\":0,\"CANCELED\":0},\"metrics\":{\"read-bytes\":0,\"read-bytes-complete\":true,\"write-bytes\":228274946,\"write-bytes-complete\":true,\"read-records\":0,\"read-records-complete\":true,\"write-records\":2840252,\"write-records-complete\":true}},\n",
    "    \n",
    "    {\"id\":\"b5f45dac6455bdbb1db8d53b8a4d6dd0\",\"name\":\"GroupWindowAggregate[8] -> Calc[9]\",\"maxParallelism\":128,\"parallelism\":1,\"status\":\"RUNNING\",\"start-time\":1667986398570,\"end-time\":-1,\"duration\":39131,\"tasks\":{\"SCHEDULED\":0,\"FINISHED\":0,\"CANCELING\":0,\"INITIALIZING\":0,\"RECONCILING\":0,\"FAILED\":0,\"CREATED\":0,\"RUNNING\":1,\"DEPLOYING\":0,\"CANCELED\":0},\"metrics\":{\"read-bytes\":46875206,\"read-bytes-complete\":true,\"write-bytes\":11610,\"write-bytes-complete\":true,\"read-records\":1420124,\"read-records-complete\":true,\"write-records\":3,\"write-records-complete\":true}},\n",
    "    \n",
    "    {\"id\":\"4c598cac9d8a45bad0550be3b9498222\",\"name\":\"IntervalJoin[11] -> Calc[12] -> Sink: discard_sink[13]\",\"maxParallelism\":128,\"parallelism\":4,\"status\":\"RUNNING\",\"start-time\":1667986398577,\"end-time\":-1,\"duration\":39124,\"tasks\":{\"SCHEDULED\":0,\"FINISHED\":0,\"CANCELING\":0,\"INITIALIZING\":0,\"RECONCILING\":0,\"FAILED\":0,\"CREATED\":0,\"RUNNING\":4,\"DEPLOYING\":0,\"CANCELED\":0},\"metrics\":{\"read-bytes\":179375754,\"read-bytes-complete\":true,\"write-bytes\":0,\"write-bytes-complete\":true,\"read-records\":1402081,\"read-records-complete\":true,\"write-records\":0,\"write-records-complete\":true}}],\n",
    "    \n",
    "    \n",
    "\"status-counts\":{\"SCHEDULED\":0,\"FINISHED\":0,\"CANCELING\":0,\"INITIALIZING\":0,\"RECONCILING\":0,\"FAILED\":0,\"CREATED\":0,\"RUNNING\":3,\"DEPLOYING\":0,\"CANCELED\":0},\n",
    "\"plan\":{\"jid\":\"918158c93d3a98e70ca7a2937afc1826\",\"name\":\"insert-into_default_catalog.default_database.discard_sink\",\"type\":\"STREAMING\",\n",
    "\"nodes\":[\n",
    "\n",
    "{\"id\":\"4c598cac9d8a45bad0550be3b9498222\",\"parallelism\":4,\"operator\":\"\",\"operator_strategy\":\"\",\"description\":\"[11]:IntervalJoin(joinType=[InnerJoin], windowBounds=[isRowTime=true, leftLowerBound=-10000, leftUpperBound=0, leftTimeIndex=3, rightTimeIndex=1], where=[((price = maxprice) AND (dateTime &gt;= (dateTime0 - 10000:INTERVAL SECOND)) AND (dateTime &lt;= dateTime0))], select=[auction, bidder, price, dateTime, extra, maxprice, dateTime0])<br/>+- [12]:Calc(select=[auction, price, bidder, dateTime, extra])<br/>   +- [13]:Sink(table=[default_catalog.default_database.discard_sink], fields=[auction, price, bidder, dateTime, extra])<br/>\",\"inputs\":[{\"num\":0,\"id\":\"b5f45dac6455bdbb1db8d53b8a4d6dd0\",\"ship_strategy\":\"HASH\",\"exchange\":\"pipelined_bounded\"},{\"num\":1,\"id\":\"c783d1ea922c420880b56da4fffd1f2a\",\"ship_strategy\":\"HASH\",\"exchange\":\"pipelined_bounded\"}],\"optimizer_properties\":{}},\n",
    "\n",
    "{\"id\":\"b5f45dac6455bdbb1db8d53b8a4d6dd0\",\"parallelism\":1,\"operator\":\"\",\"operator_strategy\":\"\",\"description\":\"[8]:GroupWindowAggregate(window=[TumblingGroupWindow('w$, dateTime, 10000)], properties=[w$start, w$end, w$rowtime, w$proctime], select=[MAX($f1) AS maxprice, start('w$) AS w$start, end('w$) AS w$end, rowtime('w$) AS w$rowtime, proctime('w$) AS w$proctime])<br/>+- [9]:Calc(select=[maxprice, w$rowtime AS dateTime])<br/>\",\"inputs\":[{\"num\":0,\"id\":\"c783d1ea922c420880b56da4fffd1f2a\",\"ship_strategy\":\"GLOBAL\",\"exchange\":\"pipelined_bounded\"}],\"optimizer_properties\":{}},\n",
    "\n",
    "{\"id\":\"c783d1ea922c420880b56da4fffd1f2a\",\"parallelism\":4,\"operator\":\"\",\"operator_strategy\":\"\",\"description\":\"[1]:TableSourceScan(table=[[default_catalog, default_database, datagen]], fields=[event_type, person, auction, bid])<br/>+- [2]:Calc(select=[event_type, bid, CASE((event_type = 0), person.dateTime, (event_type = 1), auction.dateTime, bid.dateTime) AS dateTime])<br/>   +- [3]:WatermarkAssigner(rowtime=[dateTime], watermark=[(dateTime - 4000:INTERVAL SECOND)])<br/>      :- [4]:Calc(select=[bid.auction AS auction, bid.bidder AS bidder, bid.price AS price, dateTime, bid.extra AS extra], where=[(event_type = 2)])<br/>      +- [6]:Calc(select=[dateTime, bid.price AS $f1], where=[(event_type = 2)])<br/>\",\"optimizer_properties\":{}}]\n",
    "\n",
    "}}\n"
   ]
  },
  {
   "cell_type": "markdown",
   "metadata": {},
   "source": [
    "## vertex-level\n",
    " http://172.28.176.179:8081/jobs/76d4bb43b24ada982d521d98b8fcca3c/vertices/c783d1ea922c420880b56da4fffd1f2a/subtasks/metrics\n",
    "\n",
    "[{\"id\":\"Shuffle.Netty.Output.Buffers.outPoolUsage\"},{\"id\":\"checkpointStartDelayNanos\"},{\"id\":\"maxSoftBackPressureTimeMs\"},{\"id\":\"Calc[6].currentOutputWatermark\"},{\"id\":\"numBytesOut\"},{\"id\":\"Source__datagen[1].currentOutputWatermark\"},{\"id\":\"Calc[2].numRecordsOut\"},{\"id\":\"Calc[4].numRecordsOutPerSecond\"},{\"id\":\"buffers.inputQueueSize\"},{\"id\":\"Calc[4].numRecordsOut\"},{\"id\":\"Calc[6].currentInputWatermark\"},{\"id\":\"buffers.outputQueueSize\"},{\"id\":\"Source__datagen[1].numRecordsOut\"},{\"id\":\"numBytesIn\"},{\"id\":\"Source__datagen[1].numRecordsInPerSecond\"},{\"id\":\"numBuffersOut\"},{\"id\":\"Calc[6].numRecordsInPerSecond\"},{\"id\":\"Calc[2].numRecordsInPerSecond\"},{\"id\":\"numBytesOutPerSecond\"},{\"id\":\"Calc[4].currentOutputWatermark\"},{\"id\":\"Calc[2].numRecordsOutPerSecond\"},{\"id\":\"buffers.outputQueueLength\"},{\"id\":\"Calc[4].currentInputWatermark\"},{\"id\":\"numBuffersOutPerSecond\"},{\"id\":\"Shuffle.Netty.Input.Buffers.inputExclusiveBuffersUsage\"},{\"id\":\"isBackPressured\"},{\"id\":\"WatermarkAssigner[3].currentInputWatermark\"},{\"id\":\"Calc[6].numRecordsIn\"},{\"id\":\"softBackPressuredTimeMsPerSecond\"},{\"id\":\"Shuffle.Netty.Output.Buffers.outputQueueSize\"},{\"id\":\"buffers.inPoolUsage\"},{\"id\":\"WatermarkAssigner[3].numRecordsOut\"},{\"id\":\"idleTimeMsPerSecond\"},{\"id\":\"Shuffle.Netty.Input.Buffers.inputQueueSize\"},{\"id\":\"Calc[2].numRecordsIn\"},{\"id\":\"hardBackPressuredTimeMsPerSecond\"},{\"id\":\"busyTimeMsPerSecond\"},{\"id\":\"Shuffle.Netty.Output.Buffers.outputQueueLength\"},{\"id\":\"Calc[2].currentOutputWatermark\"},{\"id\":\"buffers.inputFloatingBuffersUsage\"},{\"id\":\"WatermarkAssigner[3].numRecordsInPerSecond\"},{\"id\":\"maxHardBackPressureTimeMs\"},{\"id\":\"Shuffle.Netty.Input.Buffers.inPoolUsage\"},{\"id\":\"Calc[6].numRecordsOutPerSecond\"},{\"id\":\"numRecordsOut\"},{\"id\":\"Calc[4].numRecordsInPerSecond\"},{\"id\":\"buffers.inputQueueLength\"},{\"id\":\"WatermarkAssigner[3].numRecordsOutPerSecond\"},{\"id\":\"Calc[2].currentInputWatermark\"},{\"id\":\"numRecordsIn\"},{\"id\":\"numBytesInPerSecond\"},{\"id\":\"Shuffle.Netty.Input.Buffers.inputQueueLength\"},{\"id\":\"backPressuredTimeMsPerSecond\"},{\"id\":\"buffers.inputExclusiveBuffersUsage\"},{\"id\":\"Source__datagen[1].numRecordsOutPerSecond\"},{\"id\":\"numRecordsOutPerSecond\"},{\"id\":\"Calc[6].numRecordsOut\"},{\"id\":\"Calc[4].numRecordsIn\"},{\"id\":\"buffers.outPoolUsage\"},{\"id\":\"WatermarkAssigner[3].currentOutputWatermark\"},{\"id\":\"WatermarkAssigner[3].numRecordsIn\"},{\"id\":\"Source__datagen[1].numRecordsIn\"},{\"id\":\"numRecordsInPerSecond\"},{\"id\":\"Shuffle.Netty.Input.Buffers.inputFloatingBuffersUsage\"}]"
   ]
  },
  {
   "cell_type": "markdown",
   "metadata": {},
   "source": [
    "## SubTask-level\n",
    "\n",
    "http://172.28.176.179:8081/jobs/76d4bb43b24ada982d521d98b8fcca3c/vertices/c783d1ea922c420880b56da4fffd1f2a/subtasks/metrics\n",
    "\n",
    "[{\"id\":\"Shuffle.Netty.Output.Buffers.outPoolUsage\"},{\"id\":\"checkpointStartDelayNanos\"},{\"id\":\"maxSoftBackPressureTimeMs\"},{\"id\":\"Calc[6].currentOutputWatermark\"},{\"id\":\"numBytesOut\"},{\"id\":\"Source__datagen[1].currentOutputWatermark\"},{\"id\":\"Calc[2].numRecordsOut\"},{\"id\":\"Calc[4].numRecordsOutPerSecond\"},{\"id\":\"buffers.inputQueueSize\"},{\"id\":\"Calc[4].numRecordsOut\"},{\"id\":\"Calc[6].currentInputWatermark\"},{\"id\":\"buffers.outputQueueSize\"},{\"id\":\"Source__datagen[1].numRecordsOut\"},{\"id\":\"numBytesIn\"},{\"id\":\"Source__datagen[1].numRecordsInPerSecond\"},{\"id\":\"numBuffersOut\"},{\"id\":\"Calc[6].numRecordsInPerSecond\"},{\"id\":\"Calc[2].numRecordsInPerSecond\"},{\"id\":\"numBytesOutPerSecond\"},{\"id\":\"Calc[4].currentOutputWatermark\"},{\"id\":\"Calc[2].numRecordsOutPerSecond\"},{\"id\":\"buffers.outputQueueLength\"},{\"id\":\"Calc[4].currentInputWatermark\"},{\"id\":\"numBuffersOutPerSecond\"},{\"id\":\"Shuffle.Netty.Input.Buffers.inputExclusiveBuffersUsage\"},{\"id\":\"isBackPressured\"},{\"id\":\"WatermarkAssigner[3].currentInputWatermark\"},{\"id\":\"Calc[6].numRecordsIn\"},{\"id\":\"softBackPressuredTimeMsPerSecond\"},{\"id\":\"Shuffle.Netty.Output.Buffers.outputQueueSize\"},{\"id\":\"buffers.inPoolUsage\"},{\"id\":\"WatermarkAssigner[3].numRecordsOut\"},{\"id\":\"idleTimeMsPerSecond\"},{\"id\":\"Shuffle.Netty.Input.Buffers.inputQueueSize\"},{\"id\":\"Calc[2].numRecordsIn\"},{\"id\":\"hardBackPressuredTimeMsPerSecond\"},{\"id\":\"busyTimeMsPerSecond\"},{\"id\":\"Shuffle.Netty.Output.Buffers.outputQueueLength\"},{\"id\":\"Calc[2].currentOutputWatermark\"},{\"id\":\"buffers.inputFloatingBuffersUsage\"},{\"id\":\"WatermarkAssigner[3].numRecordsInPerSecond\"},{\"id\":\"maxHardBackPressureTimeMs\"},{\"id\":\"Shuffle.Netty.Input.Buffers.inPoolUsage\"},{\"id\":\"Calc[6].numRecordsOutPerSecond\"},{\"id\":\"numRecordsOut\"},{\"id\":\"Calc[4].numRecordsInPerSecond\"},{\"id\":\"buffers.inputQueueLength\"},{\"id\":\"WatermarkAssigner[3].numRecordsOutPerSecond\"},{\"id\":\"Calc[2].currentInputWatermark\"},{\"id\":\"numRecordsIn\"},{\"id\":\"numBytesInPerSecond\"},{\"id\":\"Shuffle.Netty.Input.Buffers.inputQueueLength\"},{\"id\":\"backPressuredTimeMsPerSecond\"},{\"id\":\"buffers.inputExclusiveBuffersUsage\"},{\"id\":\"Source__datagen[1].numRecordsOutPerSecond\"},{\"id\":\"numRecordsOutPerSecond\"},{\"id\":\"Calc[6].numRecordsOut\"},{\"id\":\"Calc[4].numRecordsIn\"},{\"id\":\"buffers.outPoolUsage\"},{\"id\":\"WatermarkAssigner[3].currentOutputWatermark\"},{\"id\":\"WatermarkAssigner[3].numRecordsIn\"},{\"id\":\"Source__datagen[1].numRecordsIn\"},{\"id\":\"numRecordsInPerSecond\"},{\"id\":\"Shuffle.Netty.Input.Buffers.inputFloatingBuffersUsage\"}]"
   ]
  },
  {
   "cell_type": "markdown",
   "metadata": {},
   "source": []
  },
  {
   "cell_type": "code",
   "execution_count": 38,
   "metadata": {},
   "outputs": [],
   "source": [
    "# testing implementation\n",
    "# old functions, do not touch\n",
    "def fetch_job_vertices(clusterUrl=\"http://172.28.176.179:8081\", jobidx=0):\n",
    "    # function: find current job's vertices info sets\n",
    "    # input: dashboard url, query job idx\n",
    "    # output: vertices info sets of the job, job id\n",
    "    # first find current jobs\n",
    "    response = requests.get(\"{}/jobs\".format(clusterUrl))\n",
    "    running_jobs = [j['id'] for j in json.loads(response.text)[\"jobs\"][:] if j['status'] == 'RUNNING']\n",
    "    if len(running_jobs) > 1 and jobidx == 0:\n",
    "        print(\"[FETCH] Warning: More than one running job, will select the first one\")\n",
    "    # jobId = json.loads(response.text)[\"jobs\"][jobidx][\"id\"]\n",
    "    jobId = running_jobs[jobidx]\n",
    "    # find vertices for the specific job\n",
    "    response = requests.get(\"{}/jobs/{}\".format(clusterUrl, jobId))\n",
    "    vertices = json.loads(response.text)[\"vertices\"]\n",
    "    return vertices, jobId # vertices has detailed informations including like name, max_parallelism, parallelism\n",
    "\n",
    "\n",
    "def fetch_job_meta(clusterUrl=\"http://172.28.176.179:8081\", jobidx=0):\n",
    "    # function: find current job's meta info sets\n",
    "    # input: dashboard url, query job idx\n",
    "    # output: meta info sets of the job, job id\n",
    "    # first find current jobs\n",
    "    response = requests.get(\"{}/jobs\".format(clusterUrl))\n",
    "    running_jobs = [j['id'] for j in json.loads(response.text)[\"jobs\"][:] if j['status'] == 'RUNNING']\n",
    "    if len(running_jobs) > 1 and jobidx == 0:\n",
    "        print(\"[FETCH] Warning: More than one running job, will select the first one\")\n",
    "    # jobId = json.loads(response.text)[\"jobs\"][jobidx][\"id\"]\n",
    "    jobId = running_jobs[jobidx]\n",
    "    # find vertices for the specific job\n",
    "    response = requests.get(\"{}/jobs/{}\".format(clusterUrl, jobId))\n",
    "    meta = json.loads(response.text)\n",
    "    return meta, jobId\n",
    "\n",
    "\n",
    "def fetch_job_vertice_metrics(vers, jid, clusterUrl=\"http://172.28.176.179:8081\", showurl=False):\n",
    "    # input: vertice info sets, job id, dashboard url, \n",
    "    # output: vids of all vers, metrics of all vers (same order as in the arg:vers)\n",
    "    vids = []\n",
    "    vmetrics = []\n",
    "    for ver in vers:\n",
    "        vid = ver['id']\n",
    "        the_url = \"{}/jobs/{}/vertices/{}/subtasks/metrics\".format(clusterUrl, jid, vid)\n",
    "        if showurl:\n",
    "            print(the_url)\n",
    "        response = requests.get(the_url)\n",
    "        metrics = json.loads(response.text)\n",
    "        vids.append(vid)\n",
    "        vmetrics.append(metrics)\n",
    "    return vids, vmetrics\n",
    "\n",
    "\n",
    "# newly implemented\n",
    "def fetch_job_metrics(jid, clusterUrl=\"http://172.28.176.179:8081\", showurl=False):\n",
    "    the_url = \"{}/jobs/{}/metrics\".format(clusterUrl, jid)\n",
    "    if showurl:\n",
    "        print(the_url)\n",
    "    response = requests.get(the_url)\n",
    "    metrics = json.loads(response.text)\n",
    "    return metrics\n",
    "\n",
    "\n",
    "def fetch_job_vertice_subtasks_metrics(vers, jid, clusterUrl=\"http://172.28.176.179:8081\", showurl=False):\n",
    "    # input: vertice info sets, job id, dashboard url, \n",
    "    # output: parallelism (num of subtasks), metrics of all sbtasks of those vertice\n",
    "    sbmetrics = {}\n",
    "    for ver in vers:\n",
    "        vid = ver['id']\n",
    "        vparallelism = ver['parallelism']\n",
    "        sbmetrics[vid] = []\n",
    "        for sbidx in range(vparallelism):\n",
    "            the_url = \"{}/jobs/{}/vertices/{}/subtasks/{}/metrics\".format(clusterUrl, jid, vid, sbidx)\n",
    "            if showurl:\n",
    "                print(the_url)\n",
    "            response = requests.get(the_url)\n",
    "            metrics = json.loads(response.text)\n",
    "            sbmetrics[vid].append(metrics)\n",
    "    return vparallelism, sbmetrics\n",
    "\n",
    "# def fetch_job_vertex_subtask_metrics(sbidx, ver, jid, clusterUrl=\"http://172.28.176.179:8081\", showurl=False):\n",
    "#     # input: subtask indice, vertex info sets, job id, dashboard url, \n",
    "#     # output: metrics of all the single subtask\n",
    "#     vid = ver['id']\n",
    "#     if showurl:\n",
    "#         print(\"{}/jobs/{}/vertices/{}/subtasks/{}/metrics\".format(clusterUrl, jid, vid, sbidx))\n",
    "#     response = requests.get(\"{}/jobs/{}/vertices/{}/subtasks/{}/metrics\".format(clusterUrl, jid, vid, sbidx))\n",
    "#     sbmetrics = json.loads(response.text)\n",
    "#     return sbmetrics\n",
    "\n",
    "\n",
    "def help_find_query_field(wanted, can_metrics, omit_operator_level=True):\n",
    "    # helper, generate the metrics values query field\n",
    "    query_field = \"\"\n",
    "    all_wanted = False\n",
    "    if wanted == []: # empty means wanting everything\n",
    "        all_wanted = True\n",
    "    # loop and filter wanted metrics\n",
    "    for metric in can_metrics:\n",
    "        if omit_operator_level:\n",
    "            if '[' in metric[\"id\"]: continue\n",
    "        test_flag = False\n",
    "        if not all_wanted:\n",
    "            for m in wanted:\n",
    "                if False in [m_i in metric[\"id\"] for m_i in m]:\n",
    "                    continue\n",
    "                else:\n",
    "                    test_flag = True\n",
    "                    break\n",
    "        if test_flag or all_wanted:\n",
    "            query_field += metric[\"id\"] + \",\"\n",
    "    return query_field\n",
    "\n",
    "\n",
    "def search_job_metrics_values(metricnames, jobId, jmetrics,\n",
    "            clusterUrl=\"http://172.28.176.179:8081\", showurl=False, omit_operator_level=True):\n",
    "    # search metrics for a single job\n",
    "    # input: metricnames: wanted metric names, job id, jmetrics\n",
    "    # output: res: a dict of interest metrics in a single job\n",
    "    query_field = help_find_query_field(metricnames, jmetrics, omit_operator_level)\n",
    "    the_url = \"{}/jobs/{}/metrics?get={}\".format(clusterUrl, jobId, query_field[:-1])\n",
    "    if showurl:\n",
    "        print(the_url)\n",
    "    response = requests.get(the_url)\n",
    "    metric_values = json.loads(response.text)\n",
    "    return metric_values\n",
    "\n",
    "\n",
    "def search_job_vertex_metrics_values(metricnames, jobId, vertexId, vmetrics,\n",
    "            clusterUrl=\"http://172.28.176.179:8081\", showurl=False, omit_operator_level=True):\n",
    "    # search metrics for a single vertex\n",
    "    # input: metricnames: wanted metric names, job id, vertex id, vmetrics\n",
    "    # output: res: a dict of interest metrics in a single vertex\n",
    "    query_field = help_find_query_field(metricnames, vmetrics, omit_operator_level)\n",
    "    the_url = \"{}/jobs/{}/vertices/{}/subtasks/metrics?get={}\".format(clusterUrl, jobId, vertexId, query_field[:-1])\n",
    "    if showurl:\n",
    "        print(the_url)\n",
    "    response = requests.get(the_url)\n",
    "    metric_values = json.loads(response.text)\n",
    "    return metric_values\n",
    "\n",
    "\n",
    "def search_job_vertex_subtasks_metrics_values(metricnames, jobId, vertexId, sbtaskIdx, sbmetrics,\n",
    "            clusterUrl=\"http://172.28.176.179:8081\", showurl=False, omit_operator_level=True):\n",
    "    # search metrics for a single subtask\n",
    "    # input: metricnames: wanted metric names, job id, vertex id, subtask index, sbmetrics\n",
    "    # output: res: a dict of interest metrics in a single subtask\n",
    "    query_field = help_find_query_field(metricnames, sbmetrics, omit_operator_level)\n",
    "    the_url = \"{}/jobs/{}/vertices/{}/subtasks/{}/metrics?get={}\".format(clusterUrl, jobId, vertexId, sbtaskIdx, query_field[:-1])\n",
    "    if showurl:\n",
    "        print(the_url)\n",
    "    response = requests.get(the_url)\n",
    "    metric_values = json.loads(response.text)\n",
    "    return metric_values\n",
    "\n",
    "# TODO: implement the collecting all function\n",
    "\n",
    "def sta_job_vertice_metric_values(metricnames, jobId, vertexIds,  vmetricses, interval=10, itrs=100,\n",
    "            clusterUrl=\"http://172.28.176.179:8081\", showurl=False):\n",
    "    # collect all interest metrics for vertices in a job by time series\n",
    "    print('Collecting metrics:', end='')\n",
    "    res = {}\n",
    "    for i in range(itrs):\n",
    "        for v_idx in range(len(vertexIds)):\n",
    "            # for each vertex collect:\n",
    "            vertexId = vertexIds[v_idx]\n",
    "            vmetrics = vmetricses[v_idx]\n",
    "            if res.get(vertexId) is None: res[vertexId] = {}\n",
    "            # fetch metric values related to our search info\n",
    "            current_res = search_job_vertice_metric_values(metricnames, jobId, vertexId,  vmetrics, clusterUrl=\"http://172.28.176.179:8081\", showurl=False)\n",
    "            # record to the res-record\n",
    "            for k,v in current_res.items():\n",
    "                # k here is the user search key\n",
    "                # v here is the list of metrics containing the searching keyword\n",
    "                for m in v:\n",
    "                    m_id = m.get(\"id\", None)\n",
    "                    if m_id is None: continue\n",
    "                    if res[vertexId].get(m_id) is None: res[vertexId][m_id]={}\n",
    "                    for m_k, m_v in m.items():\n",
    "                        if m_k == \"id\": continue\n",
    "                        # m_id: metric name, m_k: metric subitem like sum/max/avg\n",
    "                        if res[vertexId][m_id].get(m_k) is None: res[vertexId][m_id][m_k] = []\n",
    "                        res[vertexId][m_id][m_k].append(m_v)\n",
    "        if i % max(1, (itrs//20)) == 0:\n",
    "            print('|',end='')\n",
    "        sleep(interval)\n",
    "    return res\n",
    "\n",
    "\n",
    "def help_make_res(query_res):\n",
    "    res = {}\n",
    "    for metric in query_res:\n",
    "        mkey = metric['id']\n",
    "        res[mkey] = {}\n",
    "        for sk, sv in metric.items():\n",
    "            if sk == 'id': continue\n",
    "            res[mkey][sk] = sv\n",
    "    return res\n",
    "\n",
    "\n",
    "def sta_job_everything(jobId, jmeta, interval=1, itrs=1,\n",
    "            clusterUrl=\"http://172.28.176.179:8081\", showurl=False):\n",
    "    # collect all interest metrics for the job itself, vertices, subtasks in a job by time series\n",
    "    # the wanted here is a dict, identifies which metrics you want in each level\n",
    "    # returns: a list of samples\n",
    "\n",
    "    print('Collecting metrics:', end='')\n",
    "    res = [] # a list of dict-samples\n",
    "\n",
    "    for i in range(itrs):\n",
    "        # Job-level\n",
    "        job_meta = jmeta #fin\n",
    "        job_metrics = fetch_job_metrics(jobId)\n",
    "        job_data = {} #fin\n",
    "        vers = job_meta['vertices'] # vertice meta\n",
    "        # make wanted for job: latencies\n",
    "        source_vertex_id = None\n",
    "        sink_vertex_id = None\n",
    "        for ver in vers:\n",
    "            if 'Source' in ver['name']: source_vertex_id = ver['id']\n",
    "            elif 'Sink' in ver['name']: sink_vertex_id = ver['id']\n",
    "        for latency_type in ['p90', 'p95', 'mean']:\n",
    "            # multi-time requesting, otherwise bad request error\n",
    "            latency_metric_values = search_job_metrics_values([['latency', source_vertex_id, sink_vertex_id, latency_type],], jobId, job_metrics)\n",
    "            job_data['latency_'+latency_type] = help_make_res(latency_metric_values)\n",
    "\n",
    "        # Vertice-level\n",
    "        vertice_data = [] # k: vid, v: metric values, fin\n",
    "        _, vers_metrics = fetch_job_vertice_metrics(vers, jobId)\n",
    "        _, sbs_metrics = fetch_job_vertice_subtasks_metrics(vers, jobId)\n",
    "\n",
    "        for ver_i in range(len(vers)):\n",
    "            # for each vertex collect:\n",
    "            vertex_data = {} # will append into the vertice data\n",
    "            ver = vers[ver_i]\n",
    "            vertexId = ver['id']\n",
    "            vparallel = ver['parallelism']\n",
    "            \n",
    "            vmetrics = vers_metrics[ver_i]\n",
    "            # make wanted\n",
    "            ver_wanted = [[vm['id']] for vm in vmetrics if '[' not in vm['id']]\n",
    "            \n",
    "            current_res = search_job_vertex_metrics_values(ver_wanted, jobId, vertexId, vmetrics)\n",
    "            print(current_res)\n",
    "            vertex_data['vertex_id'] = vertexId\n",
    "            vertex_data['vertex_level_metrics'] = help_make_res(current_res)\n",
    "\n",
    "        # Sub-task Level\n",
    "            sb_data = []\n",
    "            for sb_idx in range(vparallel):\n",
    "                sbm = sbs_metrics[vertexId][sb_idx]\n",
    "                # make wanted\n",
    "                sb_wanted = [[m['id']] for m in sbm if '[' not in m['id']]\n",
    "                \n",
    "                sbmvs = search_job_vertex_subtasks_metrics_values(sb_wanted, jobId, vertexId, sb_idx, sbm)\n",
    "                sb_data.append(help_make_res(sbmvs))\n",
    "            \n",
    "            vertex_data['sub_level_metrics'] = sb_data # vertex data assemble done, append\n",
    "            vertice_data.append(vertex_data)\n",
    "\n",
    "        # assemble the whole sample\n",
    "        sample = {}\n",
    "        sample['job_id'] = jobId\n",
    "        sample['job_meta_info'] = job_meta\n",
    "        sample['job_level_metrics'] = job_data\n",
    "        sample['vertice_metrics'] = vertice_data\n",
    "\n",
    "        res.append(sample)\n",
    "\n",
    "        if i % max(1, (itrs//20)) == 0:\n",
    "            print('|',end='')\n",
    "\n",
    "        sleep(interval)\n",
    "\n",
    "    return res"
   ]
  },
  {
   "cell_type": "code",
   "execution_count": 35,
   "metadata": {},
   "outputs": [],
   "source": [
    "# testing"
   ]
  },
  {
   "cell_type": "code",
   "execution_count": 8,
   "metadata": {},
   "outputs": [],
   "source": [
    "# # unit testing\n",
    "# # all_sbms = fetch_job_vertice_subtask_metrics(vs, jid)\n",
    "# # print(all_sbms.keys())\n",
    "# # fetch_job_vertice_subtasks_metrics(vs, jid)['c783d1ea922c420880b56da4fffd1f2a'][0] == fetch_job_vertex_subtask_metrics(0, vs[0], jid)\n",
    "# jmeta, _ = fetch_job_meta()\n",
    "# vers, jid = fetch_job_vertices()\n",
    "# jmetrics = fetch_job_metrics(jid)\n",
    "# # print(len(jmetrics))\n",
    "# # for e in [e['id'] for e in jmetrics if 'mean' in e['id']]:\n",
    "# #     print(e)\n",
    "# query_str = 'latency.source_id.c783d1ea922c420880b56da4fffd1f2a.operator_id.4c598cac9d8a45bad0550be3b9498222'\n",
    "# jmetrics_vals = search_job_metrics_values([[query_str, 'p90'], [query_str, 'mean']], jid, jmetrics, showurl=False)\n",
    "# # jmetrics_vals, len(jmetrics_vals)\n",
    "# # jmetrics_vals\n",
    "# vids, vmetrics = fetch_job_vertice_metrics(vers, jid)\n",
    "# # print(vmetrics)\n",
    "# vmvals = search_job_vertex_metrics_values([], jid, vids[0], vmetrics[0])\n",
    "# vp, sbm = fetch_job_vertice_subtasks_metrics(vers, jid)\n",
    "# # sbm\n",
    "# submvals = search_job_vertex_subtasks_metrics_values([], jid, vids[0], 0, sbm[vids[0]][0])\n",
    "# # submvals\n",
    "# # vmvals\n",
    "# # help_make_res(submvals)\n",
    "# vers\n",
    "# job_data = {}\n",
    "# for latency_type in ['p90', 'p95', 'mean']:\n",
    "#     latency_metric_values = search_job_metrics_values([['latency', 'c783d1ea922c420880b56da4fffd1f2a', '4c598cac9d8a45bad0550be3b9498222', latency_type],], jid, jmetrics)\n",
    "#     job_data['latency_'+latency_type] = help_make_res(latency_metric_values)\n",
    "# job_data"
   ]
  },
  {
   "cell_type": "code",
   "execution_count": 12,
   "metadata": {},
   "outputs": [
    {
     "name": "stdout",
     "output_type": "stream",
     "text": [
      "Collecting metrics:[{'id': 'Shuffle.Netty.Output.Buffers.outPoolUsage', 'min': 0.016981132, 'max': 0.016981132, 'avg': 0.016981132, 'sum': 0.135849056}, {'id': 'checkpointStartDelayNanos', 'min': 0.0, 'max': 0.0, 'avg': 0.0, 'sum': 0.0}, {'id': 'maxSoftBackPressureTimeMs', 'min': 0.0, 'max': 0.0, 'avg': 0.0, 'sum': 0.0}, {'id': 'numBytesOut', 'min': 28508160.0, 'max': 28540928.0, 'avg': 28512256.0, 'sum': 228098048.0}, {'id': 'buffers.inputQueueSize', 'min': 0.0, 'max': 0.0, 'avg': 0.0, 'sum': 0.0}, {'id': 'buffers.outputQueueSize', 'min': 51953.0, 'max': 74922.0, 'avg': 57888.625, 'sum': 463109.0}, {'id': 'numBytesIn', 'min': 0.0, 'max': 0.0, 'avg': 0.0, 'sum': 0.0}, {'id': 'numBuffersOut', 'min': 870.0, 'max': 871.0, 'avg': 870.125, 'sum': 6961.0}, {'id': 'numBytesOutPerSecond', 'min': 469674.6666666667, 'max': 470766.93333333335, 'avg': 470357.3333333333, 'sum': 3762858.6666666665}, {'id': 'buffers.outputQueueLength', 'min': 9.0, 'max': 9.0, 'avg': 9.0, 'sum': 72.0}, {'id': 'numBuffersOutPerSecond', 'min': 14.333333333333334, 'max': 14.366666666666667, 'avg': 14.354166666666666, 'sum': 114.83333333333333}, {'id': 'Shuffle.Netty.Input.Buffers.inputExclusiveBuffersUsage', 'min': 0.0, 'max': 0.0, 'avg': 0.0, 'sum': 0.0}, {'id': 'softBackPressuredTimeMsPerSecond', 'min': 0.0, 'max': 0.0, 'avg': 0.0, 'sum': 0.0}, {'id': 'Shuffle.Netty.Output.Buffers.outputQueueSize', 'min': 51042.0, 'max': 74922.0, 'avg': 57205.75, 'sum': 457646.0}, {'id': 'buffers.inPoolUsage', 'min': 0.0, 'max': 0.0, 'avg': 0.0, 'sum': 0.0}, {'id': 'idleTimeMsPerSecond', 'min': 0.0, 'max': 0.0, 'avg': 0.0, 'sum': 0.0}, {'id': 'Shuffle.Netty.Input.Buffers.inputQueueSize', 'min': 0.0, 'max': 0.0, 'avg': 0.0, 'sum': 0.0}, {'id': 'hardBackPressuredTimeMsPerSecond', 'min': 0.0, 'max': 0.0, 'avg': 0.0, 'sum': 0.0}, {'id': 'busyTimeMsPerSecond', 'min': 'NaN', 'max': 'NaN', 'avg': 'NaN', 'sum': 'NaN'}, {'id': 'Shuffle.Netty.Output.Buffers.outputQueueLength', 'min': 9.0, 'max': 9.0, 'avg': 9.0, 'sum': 72.0}, {'id': 'buffers.inputFloatingBuffersUsage', 'min': 0.0, 'max': 0.0, 'avg': 0.0, 'sum': 0.0}, {'id': 'maxHardBackPressureTimeMs', 'min': 0.0, 'max': 0.0, 'avg': 0.0, 'sum': 0.0}, {'id': 'Shuffle.Netty.Input.Buffers.inPoolUsage', 'min': 0.0, 'max': 0.0, 'avg': 0.0, 'sum': 0.0}, {'id': 'numRecordsOut', 'min': 356002.0, 'max': 356190.0, 'avg': 356078.25, 'sum': 2848626.0}, {'id': 'buffers.inputQueueLength', 'min': 0.0, 'max': 0.0, 'avg': 0.0, 'sum': 0.0}, {'id': 'numRecordsIn', 'min': 0.0, 'max': 0.0, 'avg': 0.0, 'sum': 0.0}, {'id': 'numBytesInPerSecond', 'min': 0.0, 'max': 0.0, 'avg': 0.0, 'sum': 0.0}, {'id': 'backPressuredTimeMsPerSecond', 'min': 0.0, 'max': 0.0, 'avg': 0.0, 'sum': 0.0}, {'id': 'Shuffle.Netty.Input.Buffers.inputQueueLength', 'min': 0.0, 'max': 0.0, 'avg': 0.0, 'sum': 0.0}, {'id': 'buffers.inputExclusiveBuffersUsage', 'min': 0.0, 'max': 0.0, 'avg': 0.0, 'sum': 0.0}, {'id': 'numRecordsOutPerSecond', 'min': 5872.933333333333, 'max': 5876.466666666666, 'avg': 5874.479166666667, 'sum': 46995.833333333336}, {'id': 'buffers.outPoolUsage', 'min': 0.016981132, 'max': 0.018867925, 'avg': 0.017216981125, 'sum': 0.137735849}, {'id': 'numRecordsInPerSecond', 'min': 0.0, 'max': 0.0, 'avg': 0.0, 'sum': 0.0}, {'id': 'Shuffle.Netty.Input.Buffers.inputFloatingBuffersUsage', 'min': 0.0, 'max': 0.0, 'avg': 0.0, 'sum': 0.0}]\n",
      "[{'id': 'Shuffle.Netty.Output.Buffers.outPoolUsage', 'min': 0.029411765, 'max': 0.029411765, 'avg': 0.029411765, 'sum': 0.029411765}, {'id': 'checkpointStartDelayNanos', 'min': 0.0, 'max': 0.0, 'avg': 0.0, 'sum': 0.0}, {'id': 'numBytesInLocal', 'min': 46933564.0, 'max': 46933564.0, 'avg': 46933564.0, 'sum': 46933564.0}, {'id': 'checkpointAlignmentTime', 'min': 0.0, 'max': 0.0, 'avg': 0.0, 'sum': 0.0}, {'id': 'numBytesInRemotePerSecond', 'min': 0.0, 'max': 0.0, 'avg': 0.0, 'sum': 0.0}, {'id': 'Shuffle.Netty.Input.numBytesInRemotePerSecond', 'min': 0.0, 'max': 0.0, 'avg': 0.0, 'sum': 0.0}, {'id': 'maxSoftBackPressureTimeMs', 'min': 0.0, 'max': 0.0, 'avg': 0.0, 'sum': 0.0}, {'id': 'numBytesOut', 'min': 0.0, 'max': 0.0, 'avg': 0.0, 'sum': 0.0}, {'id': 'buffers.inputQueueSize', 'min': 0.0, 'max': 0.0, 'avg': 0.0, 'sum': 0.0}, {'id': 'buffers.outputQueueSize', 'min': -32.0, 'max': -32.0, 'avg': -32.0, 'sum': -32.0}, {'id': 'numBytesIn', 'min': 46933564.0, 'max': 46933564.0, 'avg': 46933564.0, 'sum': 46933564.0}, {'id': 'numBuffersOut', 'min': 0.0, 'max': 0.0, 'avg': 0.0, 'sum': 0.0}, {'id': 'Shuffle.Netty.Input.numBuffersInLocal', 'min': 3841.0, 'max': 3841.0, 'avg': 3841.0, 'sum': 3841.0}, {'id': 'numBuffersInRemotePerSecond', 'min': 0.0, 'max': 0.0, 'avg': 0.0, 'sum': 0.0}, {'id': 'numBytesOutPerSecond', 'min': 0.0, 'max': 0.0, 'avg': 0.0, 'sum': 0.0}, {'id': 'buffers.outputQueueLength', 'min': 8.0, 'max': 8.0, 'avg': 8.0, 'sum': 8.0}, {'id': 'numBuffersOutPerSecond', 'min': 0.0, 'max': 0.0, 'avg': 0.0, 'sum': 0.0}, {'id': 'Shuffle.Netty.Input.Buffers.inputExclusiveBuffersUsage', 'min': 0.0, 'max': 0.0, 'avg': 0.0, 'sum': 0.0}, {'id': 'softBackPressuredTimeMsPerSecond', 'min': 0.0, 'max': 0.0, 'avg': 0.0, 'sum': 0.0}, {'id': 'numBytesInLocalPerSecond', 'min': 773901.2666666667, 'max': 773901.2666666667, 'avg': 773901.2666666667, 'sum': 773901.2666666667}, {'id': 'Shuffle.Netty.Output.Buffers.outputQueueSize', 'min': -32.0, 'max': -32.0, 'avg': -32.0, 'sum': -32.0}, {'id': 'buffers.inPoolUsage', 'min': 0.0, 'max': 0.0, 'avg': 0.0, 'sum': 0.0}, {'id': 'idleTimeMsPerSecond', 'min': 657.0, 'max': 657.0, 'avg': 657.0, 'sum': 657.0}, {'id': 'Shuffle.Netty.Input.numBytesInLocalPerSecond', 'min': 773901.2666666667, 'max': 773901.2666666667, 'avg': 773901.2666666667, 'sum': 773901.2666666667}, {'id': 'Shuffle.Netty.Input.Buffers.inputQueueSize', 'min': 0.0, 'max': 0.0, 'avg': 0.0, 'sum': 0.0}, {'id': 'numBytesInRemote', 'min': 0.0, 'max': 0.0, 'avg': 0.0, 'sum': 0.0}, {'id': 'hardBackPressuredTimeMsPerSecond', 'min': 0.0, 'max': 0.0, 'avg': 0.0, 'sum': 0.0}, {'id': 'Shuffle.Netty.Input.numBytesInLocal', 'min': 46933564.0, 'max': 46933564.0, 'avg': 46933564.0, 'sum': 46933564.0}, {'id': 'Shuffle.Netty.Input.numBytesInRemote', 'min': 0.0, 'max': 0.0, 'avg': 0.0, 'sum': 0.0}, {'id': 'busyTimeMsPerSecond', 'min': 343.0, 'max': 343.0, 'avg': 343.0, 'sum': 343.0}, {'id': 'Shuffle.Netty.Output.Buffers.outputQueueLength', 'min': 8.0, 'max': 8.0, 'avg': 8.0, 'sum': 8.0}, {'id': 'buffers.inputFloatingBuffersUsage', 'min': 0.0, 'max': 0.0, 'avg': 0.0, 'sum': 0.0}, {'id': 'currentInputWatermark', 'min': 1668408310888.0, 'max': 1668408310888.0, 'avg': 1668408310888.0, 'sum': 1668408310888.0}, {'id': 'maxHardBackPressureTimeMs', 'min': 0.0, 'max': 0.0, 'avg': 0.0, 'sum': 0.0}, {'id': 'Shuffle.Netty.Input.Buffers.inPoolUsage', 'min': 0.0, 'max': 0.0, 'avg': 0.0, 'sum': 0.0}, {'id': 'numBuffersInLocalPerSecond', 'min': 63.35, 'max': 63.35, 'avg': 63.35, 'sum': 63.35}, {'id': 'numRecordsOut', 'min': 3.0, 'max': 3.0, 'avg': 3.0, 'sum': 3.0}, {'id': 'numBuffersInLocal', 'min': 3841.0, 'max': 3841.0, 'avg': 3841.0, 'sum': 3841.0}, {'id': 'numBuffersInRemote', 'min': 0.0, 'max': 0.0, 'avg': 0.0, 'sum': 0.0}, {'id': 'buffers.inputQueueLength', 'min': 8.0, 'max': 8.0, 'avg': 8.0, 'sum': 8.0}, {'id': 'numRecordsIn', 'min': 1421585.0, 'max': 1421585.0, 'avg': 1421585.0, 'sum': 1421585.0}, {'id': 'Shuffle.Netty.Input.numBuffersInRemote', 'min': 0.0, 'max': 0.0, 'avg': 0.0, 'sum': 0.0}, {'id': 'numBytesInPerSecond', 'min': 773901.2666666667, 'max': 773901.2666666667, 'avg': 773901.2666666667, 'sum': 773901.2666666667}, {'id': 'backPressuredTimeMsPerSecond', 'min': 0.0, 'max': 0.0, 'avg': 0.0, 'sum': 0.0}, {'id': 'Shuffle.Netty.Input.Buffers.inputQueueLength', 'min': 8.0, 'max': 8.0, 'avg': 8.0, 'sum': 8.0}, {'id': 'buffers.inputExclusiveBuffersUsage', 'min': 0.0, 'max': 0.0, 'avg': 0.0, 'sum': 0.0}, {'id': 'Shuffle.Netty.Input.numBuffersInRemotePerSecond', 'min': 0.0, 'max': 0.0, 'avg': 0.0, 'sum': 0.0}, {'id': 'numRecordsOutPerSecond', 'min': 0.05, 'max': 0.05, 'avg': 0.05, 'sum': 0.05}, {'id': 'buffers.outPoolUsage', 'min': 0.029411765, 'max': 0.029411765, 'avg': 0.029411765, 'sum': 0.029411765}, {'id': 'Shuffle.Netty.Input.numBuffersInLocalPerSecond', 'min': 63.35, 'max': 63.35, 'avg': 63.35, 'sum': 63.35}, {'id': 'numRecordsInPerSecond', 'min': 23440.933333333334, 'max': 23440.933333333334, 'avg': 23440.933333333334, 'sum': 23440.933333333334}, {'id': 'Shuffle.Netty.Input.Buffers.inputFloatingBuffersUsage', 'min': 0.0, 'max': 0.0, 'avg': 0.0, 'sum': 0.0}]\n",
      "[{'id': 'Shuffle.Netty.Output.Buffers.outPoolUsage', 'min': 0.0, 'max': 0.0, 'avg': 0.0, 'sum': 0.0}, {'id': 'checkpointStartDelayNanos', 'min': 0.0, 'max': 0.0, 'avg': 0.0, 'sum': 0.0}, {'id': 'numBytesInLocal', 'min': 5419.0, 'max': 5518.0, 'avg': 5460.25, 'sum': 43682.0}, {'id': 'checkpointAlignmentTime', 'min': 0.0, 'max': 0.0, 'avg': 0.0, 'sum': 0.0}, {'id': 'Shuffle.Netty.Input.numBytesInRemotePerSecond', 'min': 0.0, 'max': 0.0, 'avg': 0.0, 'sum': 0.0}, {'id': 'numBytesInRemotePerSecond', 'min': 0.0, 'max': 0.0, 'avg': 0.0, 'sum': 0.0}, {'id': 'maxSoftBackPressureTimeMs', 'min': 0.0, 'max': 0.0, 'avg': 0.0, 'sum': 0.0}, {'id': 'numBytesOut', 'min': 0.0, 'max': 0.0, 'avg': 0.0, 'sum': 0.0}, {'id': 'buffers.inputQueueSize', 'min': 0.0, 'max': 0.0, 'avg': 0.0, 'sum': 0.0}, {'id': 'buffers.outputQueueSize', 'min': 0.0, 'max': 0.0, 'avg': 0.0, 'sum': 0.0}, {'id': 'numBytesIn', 'min': 21955535.0, 'max': 23339464.0, 'avg': 22747436.125, 'sum': 181979489.0}, {'id': 'numBuffersOut', 'min': 0.0, 'max': 0.0, 'avg': 0.0, 'sum': 0.0}, {'id': 'Shuffle.Netty.Input.numBuffersInLocal', 'min': 171.0, 'max': 172.0, 'avg': 171.375, 'sum': 1371.0}, {'id': 'numBuffersInRemotePerSecond', 'min': 0.0, 'max': 0.0, 'avg': 0.0, 'sum': 0.0}, {'id': 'numBytesOutPerSecond', 'min': 0.0, 'max': 0.0, 'avg': 0.0, 'sum': 0.0}, {'id': 'buffers.outputQueueLength', 'min': 0.0, 'max': 0.0, 'avg': 0.0, 'sum': 0.0}, {'id': 'numBuffersOutPerSecond', 'min': 0.0, 'max': 0.0, 'avg': 0.0, 'sum': 0.0}, {'id': 'Shuffle.Netty.Input.Buffers.inputExclusiveBuffersUsage', 'min': 0.0, 'max': 0.0, 'avg': 0.0, 'sum': 0.0}, {'id': 'softBackPressuredTimeMsPerSecond', 'min': 0.0, 'max': 0.0, 'avg': 0.0, 'sum': 0.0}, {'id': 'numBytesInLocalPerSecond', 'min': 89.66666666666667, 'max': 91.31666666666666, 'avg': 90.35416666666666, 'sum': 722.8333333333333}, {'id': 'Shuffle.Netty.Output.Buffers.outputQueueSize', 'min': 0.0, 'max': 0.0, 'avg': 0.0, 'sum': 0.0}, {'id': 'buffers.inPoolUsage', 'min': 0.0, 'max': 0.0, 'avg': 0.0, 'sum': 0.0}, {'id': 'idleTimeMsPerSecond', 'min': 733.0, 'max': 768.0, 'avg': 751.125, 'sum': 6009.0}, {'id': 'Shuffle.Netty.Input.numBytesInLocalPerSecond', 'min': 89.66666666666667, 'max': 91.31666666666666, 'avg': 90.35416666666666, 'sum': 722.8333333333333}, {'id': 'Shuffle.Netty.Input.Buffers.inputQueueSize', 'min': 0.0, 'max': 0.0, 'avg': 0.0, 'sum': 0.0}, {'id': 'numBytesInRemote', 'min': 0.0, 'max': 0.0, 'avg': 0.0, 'sum': 0.0}, {'id': 'hardBackPressuredTimeMsPerSecond', 'min': 0.0, 'max': 0.0, 'avg': 0.0, 'sum': 0.0}, {'id': 'Shuffle.Netty.Input.numBytesInLocal', 'min': 5419.0, 'max': 5518.0, 'avg': 5460.25, 'sum': 43682.0}, {'id': 'Shuffle.Netty.Input.numBytesInRemote', 'min': 0.0, 'max': 0.0, 'avg': 0.0, 'sum': 0.0}, {'id': 'busyTimeMsPerSecond', 'min': 232.0, 'max': 267.0, 'avg': 248.875, 'sum': 1991.0}, {'id': 'Shuffle.Netty.Output.Buffers.outputQueueLength', 'min': 0.0, 'max': 0.0, 'avg': 0.0, 'sum': 0.0}, {'id': 'buffers.inputFloatingBuffersUsage', 'min': 0.0, 'max': 0.0, 'avg': 0.0, 'sum': 0.0}, {'id': 'currentInputWatermark', 'min': 1668408310888.0, 'max': 1668408310888.0, 'avg': 1668408310888.0, 'sum': 13347266487104.0}, {'id': 'Shuffle.Netty.Input.Buffers.inPoolUsage', 'min': 0.0, 'max': 0.0, 'avg': 0.0, 'sum': 0.0}, {'id': 'maxHardBackPressureTimeMs', 'min': 0.0, 'max': 0.0, 'avg': 0.0, 'sum': 0.0}, {'id': 'numBuffersInLocalPerSecond', 'min': 2.816666666666667, 'max': 2.8333333333333335, 'avg': 2.822916666666667, 'sum': 22.583333333333336}, {'id': 'numRecordsOut', 'min': 0.0, 'max': 0.0, 'avg': 0.0, 'sum': 0.0}, {'id': 'numBuffersInLocal', 'min': 171.0, 'max': 172.0, 'avg': 171.375, 'sum': 1371.0}, {'id': 'numBuffersInRemote', 'min': 0.0, 'max': 0.0, 'avg': 0.0, 'sum': 0.0}, {'id': 'buffers.inputQueueLength', 'min': 9.0, 'max': 9.0, 'avg': 9.0, 'sum': 72.0}, {'id': 'numRecordsIn', 'min': 171534.0, 'max': 182282.0, 'avg': 177702.125, 'sum': 1421617.0}, {'id': 'Shuffle.Netty.Input.numBuffersInRemote', 'min': 0.0, 'max': 0.0, 'avg': 0.0, 'sum': 0.0}, {'id': 'numBytesInPerSecond', 'min': 362332.3, 'max': 384738.7166666667, 'avg': 375241.20625, 'sum': 3001929.65}, {'id': 'Shuffle.Netty.Input.Buffers.inputQueueLength', 'min': 9.0, 'max': 9.0, 'avg': 9.0, 'sum': 72.0}, {'id': 'backPressuredTimeMsPerSecond', 'min': 0.0, 'max': 0.0, 'avg': 0.0, 'sum': 0.0}, {'id': 'buffers.inputExclusiveBuffersUsage', 'min': 0.0, 'max': 0.0, 'avg': 0.0, 'sum': 0.0}, {'id': 'Shuffle.Netty.Input.numBuffersInRemotePerSecond', 'min': 0.0, 'max': 0.0, 'avg': 0.0, 'sum': 0.0}, {'id': 'numRecordsOutPerSecond', 'min': 0.0, 'max': 0.0, 'avg': 0.0, 'sum': 0.0}, {'id': 'buffers.outPoolUsage', 'min': 0.0, 'max': 0.0, 'avg': 0.0, 'sum': 0.0}, {'id': 'Shuffle.Netty.Input.numBuffersInLocalPerSecond', 'min': 2.816666666666667, 'max': 2.8333333333333335, 'avg': 2.822916666666667, 'sum': 22.583333333333336}, {'id': 'numRecordsInPerSecond', 'min': 2830.866666666667, 'max': 3004.8, 'avg': 2931.3645833333335, 'sum': 23450.916666666668}, {'id': 'Shuffle.Netty.Input.Buffers.inputFloatingBuffersUsage', 'min': 0.0, 'max': 0.0, 'avg': 0.0, 'sum': 0.0}]\n"
     ]
    },
    {
     "name": "stdout",
     "output_type": "stream",
     "text": [
      "|"
     ]
    }
   ],
   "source": [
    "# fucntion test\n",
    "jmeta, jid = fetch_job_meta()\n",
    "a_sample = sta_job_everything(jid, jmeta,)"
   ]
  },
  {
   "cell_type": "code",
   "execution_count": 34,
   "metadata": {},
   "outputs": [
    {
     "data": {
      "text/plain": [
       "{'min': 9.0, 'max': 9.0, 'avg': 9.0, 'sum': 72.0}"
      ]
     },
     "execution_count": 34,
     "metadata": {},
     "output_type": "execute_result"
    }
   ],
   "source": [
    "# result checking\n",
    "sample = a_sample[0]\n",
    "sample.keys()\n",
    "sample['job_id']\n",
    "sample['job_meta_info']\n",
    "sample['job_level_metrics']['latency_p90']\n",
    "sample['vertice_metrics'][0].keys()\n",
    "sample['vertice_metrics'][0]['vertex_level_metrics'].keys()\n",
    "sample['vertice_metrics'][0]['sub_level_metrics'][0].keys()\n",
    "sample['vertice_metrics'][0]['sub_level_metrics'][0]['Shuffle.Netty.Output.Buffers.outPoolUsage']\n",
    "sample['vertice_metrics'][0]['vertex_level_metrics']['Shuffle.Netty.Output.Buffers.outPoolUsage']['min']\n",
    "sample['vertice_metrics'][0]['vertex_level_metrics'].keys()\n",
    "sample['vertice_metrics'][0]['vertex_level_metrics']['Shuffle.Netty.Output.Buffers.outputQueueLength']\n"
   ]
  },
  {
   "cell_type": "code",
   "execution_count": 85,
   "metadata": {},
   "outputs": [
    {
     "data": {
      "text/plain": [
       "[['checkpointStartDelayNanos'],\n",
       " ['Shuffle.Netty.Output.Buffers.outPoolUsage'],\n",
       " ['maxSoftBackPressureTimeMs'],\n",
       " ['numBytesOut'],\n",
       " ['buffers.inputQueueSize'],\n",
       " ['buffers.outputQueueSize'],\n",
       " ['numBytesIn'],\n",
       " ['numBuffersOut'],\n",
       " ['numBytesOutPerSecond'],\n",
       " ['buffers.outputQueueLength'],\n",
       " ['numBuffersOutPerSecond'],\n",
       " ['Shuffle.Netty.Input.Buffers.inputExclusiveBuffersUsage'],\n",
       " ['isBackPressured'],\n",
       " ['softBackPressuredTimeMsPerSecond'],\n",
       " ['Shuffle.Netty.Output.Buffers.outputQueueSize'],\n",
       " ['buffers.inPoolUsage'],\n",
       " ['idleTimeMsPerSecond'],\n",
       " ['Shuffle.Netty.Input.Buffers.inputQueueSize'],\n",
       " ['hardBackPressuredTimeMsPerSecond'],\n",
       " ['busyTimeMsPerSecond'],\n",
       " ['Shuffle.Netty.Output.Buffers.outputQueueLength'],\n",
       " ['buffers.inputFloatingBuffersUsage'],\n",
       " ['Shuffle.Netty.Input.Buffers.inPoolUsage'],\n",
       " ['maxHardBackPressureTimeMs'],\n",
       " ['numRecordsOut'],\n",
       " ['buffers.inputQueueLength'],\n",
       " ['numRecordsIn'],\n",
       " ['numBytesInPerSecond'],\n",
       " ['Shuffle.Netty.Input.Buffers.inputQueueLength'],\n",
       " ['backPressuredTimeMsPerSecond'],\n",
       " ['buffers.inputExclusiveBuffersUsage'],\n",
       " ['numRecordsOutPerSecond'],\n",
       " ['buffers.outPoolUsage'],\n",
       " ['numRecordsInPerSecond'],\n",
       " ['Shuffle.Netty.Input.Buffers.inputFloatingBuffersUsage']]"
      ]
     },
     "execution_count": 85,
     "metadata": {},
     "output_type": "execute_result"
    }
   ],
   "source": [
    "vm0 = [m['id'] for m in vmetrics[0] if '[' not in m['id']]\n",
    "vm1 = [m['id'] for m in vmetrics[1] if '[' not in m['id']]\n",
    "vm2 = [m['id'] for m in vmetrics[2] if '[' not in m['id']]\n",
    "v0subm0 = [m['id'] for m in sbm[vids[0]][0] if '[' not in m['id']]\n",
    "v1subm0 = [m['id'] for m in sbm[vids[1]][0] if '[' not in m['id']]\n",
    "v2subm0 = [m['id'] for m in sbm[vids[2]][0] if '[' not in m['id']]\n",
    "# [m for m in vm1 if m not in vm0] #[m for m in vm2 if m not in vm0]\n",
    "# [m for m in v1subm0 if m not in v0subm0] #[m for m in vm2 if m not in vm0]\n",
    "# set(vm0) == set(v0subm0), set(vm1) == set(v1subm0)\n",
    "[[m] for m in vm0]"
   ]
  },
  {
   "cell_type": "code",
   "execution_count": 123,
   "metadata": {},
   "outputs": [],
   "source": [
    "# [v['id'] for v in vs]\n",
    "# json.loads(requests.get('http://172.28.176.179:8081/jobs/2840a5572f0a1806d4381fa014a46e7d/metrics?get=latency.source_id.c783d1ea922c420880b56da4fffd1f2a.operator_id.a20f3d62d91a9fb414a13391b08c5cd4.operator_subtask_index.3.latency_median').text)"
   ]
  },
  {
   "cell_type": "code",
   "execution_count": 40,
   "metadata": {},
   "outputs": [],
   "source": [
    "# file writing testing\n",
    "# skipped"
   ]
  },
  {
   "cell_type": "code",
   "execution_count": 45,
   "metadata": {},
   "outputs": [],
   "source": [
    "# file reading testing\n",
    "import pandas as pd"
   ]
  },
  {
   "cell_type": "code",
   "execution_count": 119,
   "metadata": {},
   "outputs": [],
   "source": [
    "# f_path = '/home/flink/workspace/yimin/datasets/nexmark_full_job_Nov14/test/test.csv'\n",
    "f_path = '/data/yimin/workspace/datasets/nexmark_full_job_Nov14/test/test.csv'\n",
    "# df = pd.read_csv(f_path)\n",
    "ametrics = None\n",
    "with open(f_path) as csv_file:\n",
    "    csv_reader = csv.reader(csv_file, delimiter=',')\n",
    "    line_count = 0\n",
    "    for row in csv_reader:\n",
    "        if line_count == 1:\n",
    "            ametrics = row[1]\n",
    "#             print(row)\n",
    "        line_count += 1"
   ]
  },
  {
   "cell_type": "code",
   "execution_count": 121,
   "metadata": {},
   "outputs": [],
   "source": [
    "a_metrics = eval(ametrics)"
   ]
  },
  {
   "cell_type": "code",
   "execution_count": 123,
   "metadata": {},
   "outputs": [
    {
     "name": "stdout",
     "output_type": "stream",
     "text": [
      "['Shuffle.Netty.Output.Buffers.outPoolUsage', 'checkpointStartDelayNanos', 'maxSoftBackPressureTimeMs', 'numBytesOut', 'buffers.inputQueueSize', 'buffers.outputQueueSize', 'numBytesIn', 'numBuffersOut', 'numBytesOutPerSecond', 'buffers.outputQueueLength', 'numBuffersOutPerSecond', 'Shuffle.Netty.Input.Buffers.inputExclusiveBuffersUsage', 'softBackPressuredTimeMsPerSecond', 'Shuffle.Netty.Output.Buffers.outputQueueSize', 'buffers.inPoolUsage', 'idleTimeMsPerSecond', 'Shuffle.Netty.Input.Buffers.inputQueueSize', 'hardBackPressuredTimeMsPerSecond', 'busyTimeMsPerSecond', 'Shuffle.Netty.Output.Buffers.outputQueueLength', 'buffers.inputFloatingBuffersUsage', 'Shuffle.Netty.Input.Buffers.inPoolUsage', 'maxHardBackPressureTimeMs', 'numRecordsOut', 'buffers.inputQueueLength', 'numRecordsIn', 'numBytesInPerSecond', 'Shuffle.Netty.Input.Buffers.inputQueueLength', 'backPressuredTimeMsPerSecond', 'buffers.inputExclusiveBuffersUsage', 'numRecordsOutPerSecond', 'buffers.outPoolUsage', 'numRecordsInPerSecond', 'Shuffle.Netty.Input.Buffers.inputFloatingBuffersUsage'] \n",
      "\n",
      " ['Shuffle.Netty.Output.Buffers.outPoolUsage', 'checkpointStartDelayNanos', 'busyTimeMsPerSecond', 'maxSoftBackPressureTimeMs', 'numBytesOut', 'Shuffle.Netty.Output.Buffers.outputQueueLength', 'buffers.inputFloatingBuffersUsage', 'buffers.inputQueueSize', 'buffers.outputQueueSize', 'Shuffle.Netty.Input.Buffers.inPoolUsage', 'maxHardBackPressureTimeMs', 'numBytesIn', 'numRecordsOut', 'numBuffersOut', 'buffers.inputQueueLength', 'numBytesOutPerSecond', 'buffers.outputQueueLength', 'numRecordsIn', 'numBuffersOutPerSecond', 'Shuffle.Netty.Input.Buffers.inputExclusiveBuffersUsage', 'numBytesInPerSecond', 'isBackPressured', 'Shuffle.Netty.Input.Buffers.inputQueueLength', 'backPressuredTimeMsPerSecond', 'buffers.inputExclusiveBuffersUsage', 'softBackPressuredTimeMsPerSecond', 'numRecordsOutPerSecond', 'Shuffle.Netty.Output.Buffers.outputQueueSize', 'buffers.inPoolUsage', 'idleTimeMsPerSecond', 'buffers.outPoolUsage', 'Shuffle.Netty.Input.Buffers.inputQueueSize', 'numRecordsInPerSecond', 'Shuffle.Netty.Input.Buffers.inputFloatingBuffersUsage', 'hardBackPressuredTimeMsPerSecond'] \n",
      "\n",
      " False\n"
     ]
    }
   ],
   "source": [
    "a_metrics.keys()\n",
    "a_metrics['job_meta_info']['vertices'], \n",
    "ms1 = list(a_metrics['vertice_metrics'][0]['vertex_level_metrics'].keys())\n",
    "ms2 = list(a_metrics['vertice_metrics'][0]['sub_level_metrics'][0].keys())\n",
    "print(ms1, '\\n\\n', ms2, '\\n\\n', set(ms1) == set(ms2))"
   ]
  },
  {
   "cell_type": "code",
   "execution_count": null,
   "metadata": {},
   "outputs": [],
   "source": []
  }
 ],
 "metadata": {
  "kernelspec": {
   "display_name": "Python 3",
   "language": "python",
   "name": "python3"
  },
  "language_info": {
   "codemirror_mode": {
    "name": "ipython",
    "version": 3
   },
   "file_extension": ".py",
   "mimetype": "text/x-python",
   "name": "python",
   "nbconvert_exporter": "python",
   "pygments_lexer": "ipython3",
   "version": "3.6.9"
  }
 },
 "nbformat": 4,
 "nbformat_minor": 2
}
